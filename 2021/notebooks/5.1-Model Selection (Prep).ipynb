{
 "cells": [
  {
   "cell_type": "markdown",
   "metadata": {},
   "source": [
    "# Model Selection and Pipelines\n",
    "\n",
    "In this lab, we'll explore ways to evaluate the quality of models created through training. We'll also begin setting up a basic pipeline, which Python's `sklearn` library provides functions for. Pipelines can be useful when we want to tune parameters and test different models and model parameters on a dataset."
   ]
  },
  {
   "cell_type": "code",
   "execution_count": 1,
   "metadata": {},
   "outputs": [],
   "source": [
    "# load libraries\n",
    "\n",
    "import numpy as np\n",
    "import pandas as pd\n",
    "\n",
    "from sklearn import metrics\n",
    "from sklearn.model_selection import train_test_split\n",
    "from sklearn.linear_model import LinearRegression"
   ]
  },
  {
   "cell_type": "markdown",
   "metadata": {},
   "source": [
    "## Load Data\n",
    "\n",
    "This portion of the notebook is an abbreviated version of the lab where we processed the Chicago Divvy and Weather datasets to produce an appropriate dataframe with the features.\n",
    "\n",
    "### Weather Data"
   ]
  },
  {
   "cell_type": "code",
   "execution_count": 2,
   "metadata": {},
   "outputs": [],
   "source": [
    "wdf = pd.read_csv(\"../../data/chicago-weather.csv.gz\", compression='gzip')\n",
    "wdf['DATE'] = pd.to_datetime(wdf['DATE'], format='%Y/%m/%d')\n",
    "\n",
    "midway_temps = wdf[wdf['STATION']=='USC00111577'].loc[:,['DATE','TMIN','TMAX']]\n",
    "midway_temps_2018 = midway_temps[midway_temps['DATE'] < '2019-01-01']"
   ]
  },
  {
   "cell_type": "markdown",
   "metadata": {},
   "source": [
    "### Divvy Data"
   ]
  },
  {
   "cell_type": "code",
   "execution_count": 3,
   "metadata": {},
   "outputs": [
    {
     "name": "stderr",
     "output_type": "stream",
     "text": [
      "/usr/local/lib/python3.8/dist-packages/pandas/core/indexing.py:1597: SettingWithCopyWarning: \n",
      "A value is trying to be set on a copy of a slice from a DataFrame.\n",
      "Try using .loc[row_indexer,col_indexer] = value instead\n",
      "\n",
      "See the caveats in the documentation: https://pandas.pydata.org/pandas-docs/stable/user_guide/indexing.html#returning-a-view-versus-a-copy\n",
      "  self.obj[key] = value\n",
      "/usr/local/lib/python3.8/dist-packages/pandas/core/indexing.py:1676: SettingWithCopyWarning: \n",
      "A value is trying to be set on a copy of a slice from a DataFrame.\n",
      "Try using .loc[row_indexer,col_indexer] = value instead\n",
      "\n",
      "See the caveats in the documentation: https://pandas.pydata.org/pandas-docs/stable/user_guide/indexing.html#returning-a-view-versus-a-copy\n",
      "  self._setitem_single_column(ilocs[0], value, pi)\n"
     ]
    }
   ],
   "source": [
    "ddf = pd.read_csv(\"../../data/Divvy_Trips_2018.csv.gz\", compression='gzip')\n",
    "ddf['START TIME'] = pd.to_datetime(ddf['START TIME'], format='%m/%d/%Y %H:%M:%S %p')\n",
    "\n",
    "divvy_2018 = ddf[ddf['START TIME'] >= '2018-01-01']\n",
    "dates = pd.Series(divvy_2018['START TIME'].apply(lambda x: x.date()), index=divvy_2018.index)\n",
    "divvy_2018.loc[:,'DATE'] = dates\n",
    "\n",
    "divvy_2018_rides_by_date = pd.DataFrame(divvy_2018.groupby(['DATE'])['DATE'] \\\n",
    "                                  .count() \\\n",
    "                                  .reset_index(name='count') \\\n",
    "                                  .sort_values(['DATE'], ascending=True))\n",
    "\n",
    "divvy_2018_duration_by_date = pd.DataFrame(divvy_2018.groupby(['DATE'])['TRIP DURATION'] \\\n",
    "                                  .sum() \\\n",
    "                                  .reset_index(name='duration') \\\n",
    "                                  .sort_values(['DATE'], ascending=True))\n",
    "\n",
    "divvy_2018_by_date = divvy_2018_duration_by_date.merge(divvy_2018_rides_by_date, \n",
    "                                                       on='DATE',\n",
    "                                                       how='left')\n",
    "divvy_2018_by_date['DATE'] = pd.to_datetime(divvy_2018_by_date['DATE'])"
   ]
  },
  {
   "cell_type": "markdown",
   "metadata": {},
   "source": [
    "### Merge Data into a Single Dataframe"
   ]
  },
  {
   "cell_type": "code",
   "execution_count": 4,
   "metadata": {},
   "outputs": [],
   "source": [
    "rides_temps = midway_temps_2018.merge(divvy_2018_by_date, on='DATE')\n",
    "rides_temps.to_csv('../../data/rides_temps.csv')"
   ]
  }
 ],
 "metadata": {
  "kernelspec": {
   "display_name": "Python 3",
   "language": "python",
   "name": "python3"
  },
  "language_info": {
   "codemirror_mode": {
    "name": "ipython",
    "version": 3
   },
   "file_extension": ".py",
   "mimetype": "text/x-python",
   "name": "python",
   "nbconvert_exporter": "python",
   "pygments_lexer": "ipython3",
   "version": "3.8.5"
  }
 },
 "nbformat": 4,
 "nbformat_minor": 2
}
