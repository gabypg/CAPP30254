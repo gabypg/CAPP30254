{
 "cells": [
  {
   "cell_type": "markdown",
   "id": "stuffed-beast",
   "metadata": {},
   "source": [
    "# Data Exploration\n",
    "\n",
    "## Learning Objective\n",
    "\n",
    "In this activity, you will select a public dataset, download it, and perform some basic exploration akin to what we have discussed.  \n",
    "\n",
    "You'll have the opportunity to learn about:\n",
    "* Where to find datasets\n",
    "* How to load them into Jupyter notebook/Python/Pandas\n",
    "* How to perform basic analysis on the notebook to identify potential issues with the dataset you chose\n",
    "\n",
    "## Step 1: Load a Dataset\n",
    "\n",
    "Pick a dataset you'd like to learn something more about.  The [datasets](https://github.com/UChicagoCAPP/CAPP30254/wiki/Datasets) on the course wiki may be useful starting point.\n",
    "\n",
    "Download the dataset and load it into Pandas."
   ]
  },
  {
   "cell_type": "code",
   "execution_count": null,
   "id": "medium-uniform",
   "metadata": {},
   "outputs": [],
   "source": [
    "import pandas as pd\n"
   ]
  },
  {
   "cell_type": "markdown",
   "id": "numerical-jersey",
   "metadata": {},
   "source": [
    "## Step 2: Explore basic properties of the dataset\n",
    "\n",
    "Hint: Pandas has functions to do each of these. You should not have to write very much code for each of these?\n",
    "\n",
    "* How many rows and columns does the dataset have?\n",
    "* What are the max, median, mean values for each column in the dataset?\n",
    "* Are any of the numerical columns correlated?"
   ]
  },
  {
   "cell_type": "code",
   "execution_count": null,
   "id": "afraid-enlargement",
   "metadata": {},
   "outputs": [],
   "source": []
  },
  {
   "cell_type": "markdown",
   "id": "russian-notion",
   "metadata": {},
   "source": [
    "## Step 3: Explore distributions and visualizations\n",
    "\n",
    "Exploring distributions, looking for outliers, and visualizing your dataset may help you understand its properties better. It is valuable to look for outliers in the dataset, as well.\n",
    "\n",
    "Try one of the following on your data:\n",
    "* Plot a cumulative distribution function of one or more of the features\n",
    "* Plot a box-and-whiskers plot to explore the distribution(s) of one or more of the features\n",
    "* If appropriate, plot a timeseries of some of the features to observe trends"
   ]
  },
  {
   "cell_type": "code",
   "execution_count": null,
   "id": "supposed-crime",
   "metadata": {},
   "outputs": [],
   "source": []
  }
 ],
 "metadata": {
  "kernelspec": {
   "display_name": "Python 3",
   "language": "python",
   "name": "python3"
  },
  "language_info": {
   "codemirror_mode": {
    "name": "ipython",
    "version": 3
   },
   "file_extension": ".py",
   "mimetype": "text/x-python",
   "name": "python",
   "nbconvert_exporter": "python",
   "pygments_lexer": "ipython3",
   "version": "3.8.5"
  }
 },
 "nbformat": 4,
 "nbformat_minor": 5
}
