{
 "cells": [
  {
   "cell_type": "markdown",
   "metadata": {},
   "source": [
    "# Lecture 1b. Data Exploration Primer\n",
    "\n",
    "Here we will explore the basics of Pandas with an example dataset from the Chicago Data Portal at https://data.cityofchicago.org. You should take some time to explore the portal and find your own datasets of interest to explore!\n",
    "\n",
    "Recall from the first notebook that you can use the Pandas load_csv function. We've included that here but commented out that line and have loaded a local file instead to allow "
   ]
  },
  {
   "cell_type": "code",
   "execution_count": 1,
   "metadata": {},
   "outputs": [],
   "source": [
    "import pandas as pd\n",
    "\n",
    "# Use this line as an example to load data directly from the City of Chicago Portal.\n",
    "# df = pd.read_csv('https://data.cityofchicago.org/api/views/5neh-572f/rows.csv?accessType=DOWNLOAD')\n",
    "\n",
    "# We have saved the file locally so that you can load the file locally.\n",
    "df = pd.read_csv('../data/cta-ridership.csv')"
   ]
  },
  {
   "cell_type": "markdown",
   "metadata": {},
   "source": [
    "## Basic Exploration\n",
    "\n",
    "Let's first take a quick look at what this data looks like.\n",
    "\n",
    "### What's in the data?"
   ]
  },
  {
   "cell_type": "code",
   "execution_count": 2,
   "metadata": {},
   "outputs": [
    {
     "data": {
      "text/html": [
       "<div>\n",
       "<style scoped>\n",
       "    .dataframe tbody tr th:only-of-type {\n",
       "        vertical-align: middle;\n",
       "    }\n",
       "\n",
       "    .dataframe tbody tr th {\n",
       "        vertical-align: top;\n",
       "    }\n",
       "\n",
       "    .dataframe thead th {\n",
       "        text-align: right;\n",
       "    }\n",
       "</style>\n",
       "<table border=\"1\" class=\"dataframe\">\n",
       "  <thead>\n",
       "    <tr style=\"text-align: right;\">\n",
       "      <th></th>\n",
       "      <th>station_id</th>\n",
       "      <th>stationname</th>\n",
       "      <th>date</th>\n",
       "      <th>daytype</th>\n",
       "      <th>rides</th>\n",
       "    </tr>\n",
       "  </thead>\n",
       "  <tbody>\n",
       "    <tr>\n",
       "      <th>0</th>\n",
       "      <td>40850</td>\n",
       "      <td>Library</td>\n",
       "      <td>10/09/2004</td>\n",
       "      <td>A</td>\n",
       "      <td>1057</td>\n",
       "    </tr>\n",
       "    <tr>\n",
       "      <th>1</th>\n",
       "      <td>40780</td>\n",
       "      <td>Central Park</td>\n",
       "      <td>06/18/2010</td>\n",
       "      <td>W</td>\n",
       "      <td>1154</td>\n",
       "    </tr>\n",
       "    <tr>\n",
       "      <th>2</th>\n",
       "      <td>41500</td>\n",
       "      <td>Montrose-Brown</td>\n",
       "      <td>10/30/2001</td>\n",
       "      <td>W</td>\n",
       "      <td>2116</td>\n",
       "    </tr>\n",
       "    <tr>\n",
       "      <th>3</th>\n",
       "      <td>40500</td>\n",
       "      <td>Washington/State</td>\n",
       "      <td>10/26/2006</td>\n",
       "      <td>W</td>\n",
       "      <td>0</td>\n",
       "    </tr>\n",
       "    <tr>\n",
       "      <th>4</th>\n",
       "      <td>41090</td>\n",
       "      <td>Monroe/State</td>\n",
       "      <td>07/07/2010</td>\n",
       "      <td>W</td>\n",
       "      <td>9431</td>\n",
       "    </tr>\n",
       "  </tbody>\n",
       "</table>\n",
       "</div>"
      ],
      "text/plain": [
       "   station_id       stationname        date daytype  rides\n",
       "0       40850           Library  10/09/2004       A   1057\n",
       "1       40780      Central Park  06/18/2010       W   1154\n",
       "2       41500    Montrose-Brown  10/30/2001       W   2116\n",
       "3       40500  Washington/State  10/26/2006       W      0\n",
       "4       41090      Monroe/State  07/07/2010       W   9431"
      ]
     },
     "execution_count": 2,
     "metadata": {},
     "output_type": "execute_result"
    }
   ],
   "source": [
    "df.head(5)"
   ]
  },
  {
   "cell_type": "markdown",
   "metadata": {},
   "source": [
    "Immediately from looking at this, we can get an understanding of the type of data we're looking at.  There's a station identifier and name, a date on which the statistic takes place, the day type, and the number of rides for that date.\n",
    "\n",
    "It's not immediately clear what A/W, is, but looking at the description of the dataset here:\n",
    "https://data.cityofchicago.org/Transportation/CTA-Ridership-L-Station-Entries-Daily-Totals/5neh-572f\n",
    "\n",
    "tells us that this column indicates that we are looking at a weekday, weekend, or holiday.\n",
    "\n",
    "We can then explore some basic characteristics of the data, including the size of the dataset, min/max/etc. to explore outliers, etc. This basic exploration allows us to spot potential outliers and mistakes in the data.\n",
    "\n",
    "### What are some basic statistics about the data?"
   ]
  },
  {
   "cell_type": "code",
   "execution_count": 3,
   "metadata": {},
   "outputs": [
    {
     "data": {
      "text/plain": [
       "(988858, 5)"
      ]
     },
     "execution_count": 3,
     "metadata": {},
     "output_type": "execute_result"
    }
   ],
   "source": [
    "df.shape"
   ]
  },
  {
   "cell_type": "code",
   "execution_count": 4,
   "metadata": {},
   "outputs": [
    {
     "data": {
      "text/html": [
       "<div>\n",
       "<style scoped>\n",
       "    .dataframe tbody tr th:only-of-type {\n",
       "        vertical-align: middle;\n",
       "    }\n",
       "\n",
       "    .dataframe tbody tr th {\n",
       "        vertical-align: top;\n",
       "    }\n",
       "\n",
       "    .dataframe thead th {\n",
       "        text-align: right;\n",
       "    }\n",
       "</style>\n",
       "<table border=\"1\" class=\"dataframe\">\n",
       "  <thead>\n",
       "    <tr style=\"text-align: right;\">\n",
       "      <th></th>\n",
       "      <th>station_id</th>\n",
       "      <th>rides</th>\n",
       "    </tr>\n",
       "  </thead>\n",
       "  <tbody>\n",
       "    <tr>\n",
       "      <th>count</th>\n",
       "      <td>988858.000000</td>\n",
       "      <td>988858.000000</td>\n",
       "    </tr>\n",
       "    <tr>\n",
       "      <th>mean</th>\n",
       "      <td>40763.358237</td>\n",
       "      <td>3322.844864</td>\n",
       "    </tr>\n",
       "    <tr>\n",
       "      <th>std</th>\n",
       "      <td>447.169160</td>\n",
       "      <td>3215.420986</td>\n",
       "    </tr>\n",
       "    <tr>\n",
       "      <th>min</th>\n",
       "      <td>40010.000000</td>\n",
       "      <td>0.000000</td>\n",
       "    </tr>\n",
       "    <tr>\n",
       "      <th>25%</th>\n",
       "      <td>40370.000000</td>\n",
       "      <td>1123.000000</td>\n",
       "    </tr>\n",
       "    <tr>\n",
       "      <th>50%</th>\n",
       "      <td>40750.000000</td>\n",
       "      <td>2324.000000</td>\n",
       "    </tr>\n",
       "    <tr>\n",
       "      <th>75%</th>\n",
       "      <td>41150.000000</td>\n",
       "      <td>4351.000000</td>\n",
       "    </tr>\n",
       "    <tr>\n",
       "      <th>max</th>\n",
       "      <td>41700.000000</td>\n",
       "      <td>36323.000000</td>\n",
       "    </tr>\n",
       "  </tbody>\n",
       "</table>\n",
       "</div>"
      ],
      "text/plain": [
       "          station_id          rides\n",
       "count  988858.000000  988858.000000\n",
       "mean    40763.358237    3322.844864\n",
       "std       447.169160    3215.420986\n",
       "min     40010.000000       0.000000\n",
       "25%     40370.000000    1123.000000\n",
       "50%     40750.000000    2324.000000\n",
       "75%     41150.000000    4351.000000\n",
       "max     41700.000000   36323.000000"
      ]
     },
     "execution_count": 4,
     "metadata": {},
     "output_type": "execute_result"
    }
   ],
   "source": [
    "df.describe()"
   ]
  },
  {
   "cell_type": "markdown",
   "metadata": {},
   "source": [
    "Some basic statistics: There is a station with no rides (minimum is zero!). Also, the station with the maximum number of rides appears to be about 10x the mean and median. Let's have a look at what those stations are."
   ]
  },
  {
   "cell_type": "code",
   "execution_count": 5,
   "metadata": {},
   "outputs": [
    {
     "data": {
      "text/plain": [
       "Racine                    6959\n",
       "Montrose-Brown            6957\n",
       "Monroe/Dearborn           6956\n",
       "Western-Forest Park       6956\n",
       "Montrose-O'Hare           6955\n",
       "                          ... \n",
       "Dempster-Skokie           2831\n",
       "Morgan-Lake               2801\n",
       "Cermak-McCormick Place    1826\n",
       "Washington/Wabash          883\n",
       "Homan                       31\n",
       "Name: stationname, Length: 148, dtype: int64"
      ]
     },
     "execution_count": 5,
     "metadata": {},
     "output_type": "execute_result"
    }
   ],
   "source": [
    "df['stationname'].value_counts()"
   ]
  },
  {
   "cell_type": "markdown",
   "metadata": {},
   "source": [
    "### Selection Based on Conditionals"
   ]
  },
  {
   "cell_type": "markdown",
   "metadata": {},
   "source": [
    "Let's see which stations have the most and fewest rides, overall, and for particular types of days."
   ]
  },
  {
   "cell_type": "markdown",
   "metadata": {},
   "source": [
    "#### Station with the most rides"
   ]
  },
  {
   "cell_type": "code",
   "execution_count": 6,
   "metadata": {},
   "outputs": [
    {
     "data": {
      "text/html": [
       "<div>\n",
       "<style scoped>\n",
       "    .dataframe tbody tr th:only-of-type {\n",
       "        vertical-align: middle;\n",
       "    }\n",
       "\n",
       "    .dataframe tbody tr th {\n",
       "        vertical-align: top;\n",
       "    }\n",
       "\n",
       "    .dataframe thead th {\n",
       "        text-align: right;\n",
       "    }\n",
       "</style>\n",
       "<table border=\"1\" class=\"dataframe\">\n",
       "  <thead>\n",
       "    <tr style=\"text-align: right;\">\n",
       "      <th></th>\n",
       "      <th>station_id</th>\n",
       "      <th>stationname</th>\n",
       "      <th>date</th>\n",
       "      <th>daytype</th>\n",
       "      <th>rides</th>\n",
       "    </tr>\n",
       "  </thead>\n",
       "  <tbody>\n",
       "    <tr>\n",
       "      <th>676574</th>\n",
       "      <td>41320</td>\n",
       "      <td>Belmont-North Main</td>\n",
       "      <td>06/28/2015</td>\n",
       "      <td>U</td>\n",
       "      <td>36323</td>\n",
       "    </tr>\n",
       "  </tbody>\n",
       "</table>\n",
       "</div>"
      ],
      "text/plain": [
       "        station_id         stationname        date daytype  rides\n",
       "676574       41320  Belmont-North Main  06/28/2015       U  36323"
      ]
     },
     "execution_count": 6,
     "metadata": {},
     "output_type": "execute_result"
    }
   ],
   "source": [
    "df[df['rides'] == max(df['rides'])].head(1)"
   ]
  },
  {
   "cell_type": "markdown",
   "metadata": {},
   "source": [
    "Interesting. The station that had the most number of rides was Belmont-North, on June 28, 2015. **What might have caused that?** (Hint: Do a quick Web search for June 28, 2015 to find out what happened on that date in Chicago.)\n",
    "\n",
    "#### Station with the Least Rides"
   ]
  },
  {
   "cell_type": "code",
   "execution_count": 7,
   "metadata": {},
   "outputs": [
    {
     "data": {
      "text/plain": [
       "(12209, 5)"
      ]
     },
     "execution_count": 7,
     "metadata": {},
     "output_type": "execute_result"
    }
   ],
   "source": [
    "df[df['rides'] == 0].shape"
   ]
  },
  {
   "cell_type": "markdown",
   "metadata": {},
   "source": [
    "Oops! There are 12,209 station-date combinations with zero rides! Let's have a quick look to understand this further."
   ]
  },
  {
   "cell_type": "code",
   "execution_count": 8,
   "metadata": {},
   "outputs": [
    {
     "data": {
      "text/html": [
       "<div>\n",
       "<style scoped>\n",
       "    .dataframe tbody tr th:only-of-type {\n",
       "        vertical-align: middle;\n",
       "    }\n",
       "\n",
       "    .dataframe tbody tr th {\n",
       "        vertical-align: top;\n",
       "    }\n",
       "\n",
       "    .dataframe thead th {\n",
       "        text-align: right;\n",
       "    }\n",
       "</style>\n",
       "<table border=\"1\" class=\"dataframe\">\n",
       "  <thead>\n",
       "    <tr style=\"text-align: right;\">\n",
       "      <th></th>\n",
       "      <th>station_id</th>\n",
       "      <th>stationname</th>\n",
       "      <th>date</th>\n",
       "      <th>daytype</th>\n",
       "      <th>rides</th>\n",
       "    </tr>\n",
       "  </thead>\n",
       "  <tbody>\n",
       "    <tr>\n",
       "      <th>3</th>\n",
       "      <td>40500</td>\n",
       "      <td>Washington/State</td>\n",
       "      <td>10/26/2006</td>\n",
       "      <td>W</td>\n",
       "      <td>0</td>\n",
       "    </tr>\n",
       "    <tr>\n",
       "      <th>46</th>\n",
       "      <td>40990</td>\n",
       "      <td>69th</td>\n",
       "      <td>08/05/2013</td>\n",
       "      <td>W</td>\n",
       "      <td>0</td>\n",
       "    </tr>\n",
       "    <tr>\n",
       "      <th>76</th>\n",
       "      <td>40640</td>\n",
       "      <td>Madison/Wabash</td>\n",
       "      <td>03/12/2016</td>\n",
       "      <td>A</td>\n",
       "      <td>0</td>\n",
       "    </tr>\n",
       "    <tr>\n",
       "      <th>128</th>\n",
       "      <td>40500</td>\n",
       "      <td>Washington/State</td>\n",
       "      <td>02/23/2008</td>\n",
       "      <td>A</td>\n",
       "      <td>0</td>\n",
       "    </tr>\n",
       "    <tr>\n",
       "      <th>230</th>\n",
       "      <td>40420</td>\n",
       "      <td>Cicero-Cermak</td>\n",
       "      <td>11/16/2003</td>\n",
       "      <td>U</td>\n",
       "      <td>0</td>\n",
       "    </tr>\n",
       "  </tbody>\n",
       "</table>\n",
       "</div>"
      ],
      "text/plain": [
       "     station_id       stationname        date daytype  rides\n",
       "3         40500  Washington/State  10/26/2006       W      0\n",
       "46        40990              69th  08/05/2013       W      0\n",
       "76        40640    Madison/Wabash  03/12/2016       A      0\n",
       "128       40500  Washington/State  02/23/2008       A      0\n",
       "230       40420     Cicero-Cermak  11/16/2003       U      0"
      ]
     },
     "execution_count": 8,
     "metadata": {},
     "output_type": "execute_result"
    }
   ],
   "source": [
    "zero = df[df['rides'] == 0]\n",
    "zero.head(5)"
   ]
  },
  {
   "cell_type": "markdown",
   "metadata": {},
   "source": [
    "Looks like a lot of weekends and holidays.  We can group by columns and types to get a better understanding of what might be going on. We can count how many dates a station had zero rides in the dataset and sort these in descending order."
   ]
  },
  {
   "cell_type": "code",
   "execution_count": 9,
   "metadata": {},
   "outputs": [
    {
     "data": {
      "text/html": [
       "<div>\n",
       "<style scoped>\n",
       "    .dataframe tbody tr th:only-of-type {\n",
       "        vertical-align: middle;\n",
       "    }\n",
       "\n",
       "    .dataframe tbody tr th {\n",
       "        vertical-align: top;\n",
       "    }\n",
       "\n",
       "    .dataframe thead th {\n",
       "        text-align: right;\n",
       "    }\n",
       "</style>\n",
       "<table border=\"1\" class=\"dataframe\">\n",
       "  <thead>\n",
       "    <tr style=\"text-align: right;\">\n",
       "      <th></th>\n",
       "      <th></th>\n",
       "      <th>station_id</th>\n",
       "      <th>date</th>\n",
       "      <th>rides</th>\n",
       "    </tr>\n",
       "    <tr>\n",
       "      <th>stationname</th>\n",
       "      <th>daytype</th>\n",
       "      <th></th>\n",
       "      <th></th>\n",
       "      <th></th>\n",
       "    </tr>\n",
       "  </thead>\n",
       "  <tbody>\n",
       "    <tr>\n",
       "      <th>Madison/Wabash</th>\n",
       "      <th>W</th>\n",
       "      <td>711</td>\n",
       "      <td>711</td>\n",
       "      <td>711</td>\n",
       "    </tr>\n",
       "    <tr>\n",
       "      <th>Washington/State</th>\n",
       "      <th>W</th>\n",
       "      <td>516</td>\n",
       "      <td>516</td>\n",
       "      <td>516</td>\n",
       "    </tr>\n",
       "    <tr>\n",
       "      <th rowspan=\"2\" valign=\"top\">Skokie</th>\n",
       "      <th>U</th>\n",
       "      <td>390</td>\n",
       "      <td>390</td>\n",
       "      <td>390</td>\n",
       "    </tr>\n",
       "    <tr>\n",
       "      <th>A</th>\n",
       "      <td>355</td>\n",
       "      <td>355</td>\n",
       "      <td>355</td>\n",
       "    </tr>\n",
       "    <tr>\n",
       "      <th>Randolph/Wabash</th>\n",
       "      <th>W</th>\n",
       "      <td>351</td>\n",
       "      <td>351</td>\n",
       "      <td>351</td>\n",
       "    </tr>\n",
       "    <tr>\n",
       "      <th>...</th>\n",
       "      <th>...</th>\n",
       "      <td>...</td>\n",
       "      <td>...</td>\n",
       "      <td>...</td>\n",
       "    </tr>\n",
       "    <tr>\n",
       "      <th>Skokie</th>\n",
       "      <th>W</th>\n",
       "      <td>1</td>\n",
       "      <td>1</td>\n",
       "      <td>1</td>\n",
       "    </tr>\n",
       "    <tr>\n",
       "      <th>Ashland-Lake</th>\n",
       "      <th>W</th>\n",
       "      <td>1</td>\n",
       "      <td>1</td>\n",
       "      <td>1</td>\n",
       "    </tr>\n",
       "    <tr>\n",
       "      <th rowspan=\"2\" valign=\"top\">Indiana</th>\n",
       "      <th>U</th>\n",
       "      <td>1</td>\n",
       "      <td>1</td>\n",
       "      <td>1</td>\n",
       "    </tr>\n",
       "    <tr>\n",
       "      <th>A</th>\n",
       "      <td>1</td>\n",
       "      <td>1</td>\n",
       "      <td>1</td>\n",
       "    </tr>\n",
       "    <tr>\n",
       "      <th>Central-Evanston</th>\n",
       "      <th>A</th>\n",
       "      <td>1</td>\n",
       "      <td>1</td>\n",
       "      <td>1</td>\n",
       "    </tr>\n",
       "  </tbody>\n",
       "</table>\n",
       "<p>238 rows × 3 columns</p>\n",
       "</div>"
      ],
      "text/plain": [
       "                          station_id  date  rides\n",
       "stationname      daytype                         \n",
       "Madison/Wabash   W               711   711    711\n",
       "Washington/State W               516   516    516\n",
       "Skokie           U               390   390    390\n",
       "                 A               355   355    355\n",
       "Randolph/Wabash  W               351   351    351\n",
       "...                              ...   ...    ...\n",
       "Skokie           W                 1     1      1\n",
       "Ashland-Lake     W                 1     1      1\n",
       "Indiana          U                 1     1      1\n",
       "                 A                 1     1      1\n",
       "Central-Evanston A                 1     1      1\n",
       "\n",
       "[238 rows x 3 columns]"
      ]
     },
     "execution_count": 9,
     "metadata": {},
     "output_type": "execute_result"
    }
   ],
   "source": [
    "zerogroups = zero.groupby(['stationname','daytype']).count()\n",
    "zerogroups.sort_values(by=['date'],ascending=False)"
   ]
  },
  {
   "cell_type": "markdown",
   "metadata": {},
   "source": [
    "**Note:** It should be clear from a little bit of research why some of the stations at the top of the list report zero dates. Do a little homework on some of them to find out!"
   ]
  },
  {
   "cell_type": "markdown",
   "metadata": {},
   "source": [
    "### Exploring Temporal Patterns"
   ]
  },
  {
   "cell_type": "markdown",
   "metadata": {},
   "source": [
    "First, let's figure out the date range that we're dealing with."
   ]
  },
  {
   "cell_type": "code",
   "execution_count": 10,
   "metadata": {},
   "outputs": [
    {
     "data": {
      "text/plain": [
       "'01/01/2001'"
      ]
     },
     "execution_count": 10,
     "metadata": {},
     "output_type": "execute_result"
    }
   ],
   "source": [
    "min(df['date'])"
   ]
  },
  {
   "cell_type": "code",
   "execution_count": 11,
   "metadata": {},
   "outputs": [
    {
     "data": {
      "text/plain": [
       "'12/31/2019'"
      ]
     },
     "execution_count": 11,
     "metadata": {},
     "output_type": "execute_result"
    }
   ],
   "source": [
    "max(df['date'])"
   ]
  },
  {
   "cell_type": "markdown",
   "metadata": {},
   "source": [
    "#### Create a Time Index\n",
    "\n",
    "So we have all rides from January 1, 2001 to December 31, 2019. Let's do some statistics that group ride statistics by date. First we need to tell Pandas that the date column is in fact a date. So, we convert the column to a proper 'DateTime' type, and then set the index to this column.\n",
    "\n",
    "This step takes a little bit of time!"
   ]
  },
  {
   "cell_type": "code",
   "execution_count": 12,
   "metadata": {},
   "outputs": [],
   "source": [
    "df['date'] = pd.to_datetime(df['date'])\n",
    "df.set_index('date', inplace=True)"
   ]
  },
  {
   "cell_type": "markdown",
   "metadata": {},
   "source": [
    "Let's see what this does to our data.  Now we can see that the date column is indexed, but the rows are not sorted."
   ]
  },
  {
   "cell_type": "code",
   "execution_count": 13,
   "metadata": {},
   "outputs": [
    {
     "data": {
      "text/html": [
       "<div>\n",
       "<style scoped>\n",
       "    .dataframe tbody tr th:only-of-type {\n",
       "        vertical-align: middle;\n",
       "    }\n",
       "\n",
       "    .dataframe tbody tr th {\n",
       "        vertical-align: top;\n",
       "    }\n",
       "\n",
       "    .dataframe thead th {\n",
       "        text-align: right;\n",
       "    }\n",
       "</style>\n",
       "<table border=\"1\" class=\"dataframe\">\n",
       "  <thead>\n",
       "    <tr style=\"text-align: right;\">\n",
       "      <th></th>\n",
       "      <th>station_id</th>\n",
       "      <th>stationname</th>\n",
       "      <th>daytype</th>\n",
       "      <th>rides</th>\n",
       "    </tr>\n",
       "    <tr>\n",
       "      <th>date</th>\n",
       "      <th></th>\n",
       "      <th></th>\n",
       "      <th></th>\n",
       "      <th></th>\n",
       "    </tr>\n",
       "  </thead>\n",
       "  <tbody>\n",
       "    <tr>\n",
       "      <th>2004-10-09</th>\n",
       "      <td>40850</td>\n",
       "      <td>Library</td>\n",
       "      <td>A</td>\n",
       "      <td>1057</td>\n",
       "    </tr>\n",
       "    <tr>\n",
       "      <th>2010-06-18</th>\n",
       "      <td>40780</td>\n",
       "      <td>Central Park</td>\n",
       "      <td>W</td>\n",
       "      <td>1154</td>\n",
       "    </tr>\n",
       "    <tr>\n",
       "      <th>2001-10-30</th>\n",
       "      <td>41500</td>\n",
       "      <td>Montrose-Brown</td>\n",
       "      <td>W</td>\n",
       "      <td>2116</td>\n",
       "    </tr>\n",
       "    <tr>\n",
       "      <th>2006-10-26</th>\n",
       "      <td>40500</td>\n",
       "      <td>Washington/State</td>\n",
       "      <td>W</td>\n",
       "      <td>0</td>\n",
       "    </tr>\n",
       "    <tr>\n",
       "      <th>2010-07-07</th>\n",
       "      <td>41090</td>\n",
       "      <td>Monroe/State</td>\n",
       "      <td>W</td>\n",
       "      <td>9431</td>\n",
       "    </tr>\n",
       "    <tr>\n",
       "      <th>2009-05-29</th>\n",
       "      <td>40080</td>\n",
       "      <td>Sheridan</td>\n",
       "      <td>W</td>\n",
       "      <td>5601</td>\n",
       "    </tr>\n",
       "    <tr>\n",
       "      <th>2008-12-06</th>\n",
       "      <td>40350</td>\n",
       "      <td>UIC-Halsted</td>\n",
       "      <td>A</td>\n",
       "      <td>2038</td>\n",
       "    </tr>\n",
       "    <tr>\n",
       "      <th>2009-01-14</th>\n",
       "      <td>40550</td>\n",
       "      <td>Irving Park-O'Hare</td>\n",
       "      <td>W</td>\n",
       "      <td>4122</td>\n",
       "    </tr>\n",
       "    <tr>\n",
       "      <th>2013-05-06</th>\n",
       "      <td>40260</td>\n",
       "      <td>State/Lake</td>\n",
       "      <td>W</td>\n",
       "      <td>9512</td>\n",
       "    </tr>\n",
       "    <tr>\n",
       "      <th>2011-05-18</th>\n",
       "      <td>40200</td>\n",
       "      <td>Randolph/Wabash</td>\n",
       "      <td>W</td>\n",
       "      <td>7093</td>\n",
       "    </tr>\n",
       "  </tbody>\n",
       "</table>\n",
       "</div>"
      ],
      "text/plain": [
       "            station_id         stationname daytype  rides\n",
       "date                                                     \n",
       "2004-10-09       40850             Library       A   1057\n",
       "2010-06-18       40780        Central Park       W   1154\n",
       "2001-10-30       41500      Montrose-Brown       W   2116\n",
       "2006-10-26       40500    Washington/State       W      0\n",
       "2010-07-07       41090        Monroe/State       W   9431\n",
       "2009-05-29       40080            Sheridan       W   5601\n",
       "2008-12-06       40350         UIC-Halsted       A   2038\n",
       "2009-01-14       40550  Irving Park-O'Hare       W   4122\n",
       "2013-05-06       40260          State/Lake       W   9512\n",
       "2011-05-18       40200     Randolph/Wabash       W   7093"
      ]
     },
     "execution_count": 13,
     "metadata": {},
     "output_type": "execute_result"
    }
   ],
   "source": [
    "df.head(10)"
   ]
  },
  {
   "cell_type": "markdown",
   "metadata": {},
   "source": [
    "#### Sort the Dataframe by Date"
   ]
  },
  {
   "cell_type": "code",
   "execution_count": 14,
   "metadata": {},
   "outputs": [
    {
     "data": {
      "text/html": [
       "<div>\n",
       "<style scoped>\n",
       "    .dataframe tbody tr th:only-of-type {\n",
       "        vertical-align: middle;\n",
       "    }\n",
       "\n",
       "    .dataframe tbody tr th {\n",
       "        vertical-align: top;\n",
       "    }\n",
       "\n",
       "    .dataframe thead th {\n",
       "        text-align: right;\n",
       "    }\n",
       "</style>\n",
       "<table border=\"1\" class=\"dataframe\">\n",
       "  <thead>\n",
       "    <tr style=\"text-align: right;\">\n",
       "      <th></th>\n",
       "      <th>station_id</th>\n",
       "      <th>stationname</th>\n",
       "      <th>daytype</th>\n",
       "      <th>rides</th>\n",
       "    </tr>\n",
       "    <tr>\n",
       "      <th>date</th>\n",
       "      <th></th>\n",
       "      <th></th>\n",
       "      <th></th>\n",
       "      <th></th>\n",
       "    </tr>\n",
       "  </thead>\n",
       "  <tbody>\n",
       "    <tr>\n",
       "      <th>2001-01-01</th>\n",
       "      <td>40370</td>\n",
       "      <td>Washington/Dearborn</td>\n",
       "      <td>U</td>\n",
       "      <td>1039</td>\n",
       "    </tr>\n",
       "    <tr>\n",
       "      <th>2001-01-01</th>\n",
       "      <td>41360</td>\n",
       "      <td>California-Lake</td>\n",
       "      <td>U</td>\n",
       "      <td>213</td>\n",
       "    </tr>\n",
       "    <tr>\n",
       "      <th>2001-01-01</th>\n",
       "      <td>40610</td>\n",
       "      <td>Ridgeland</td>\n",
       "      <td>U</td>\n",
       "      <td>141</td>\n",
       "    </tr>\n",
       "    <tr>\n",
       "      <th>2001-01-01</th>\n",
       "      <td>41340</td>\n",
       "      <td>LaSalle</td>\n",
       "      <td>U</td>\n",
       "      <td>142</td>\n",
       "    </tr>\n",
       "    <tr>\n",
       "      <th>2001-01-01</th>\n",
       "      <td>40230</td>\n",
       "      <td>Cumberland</td>\n",
       "      <td>U</td>\n",
       "      <td>788</td>\n",
       "    </tr>\n",
       "    <tr>\n",
       "      <th>2001-01-01</th>\n",
       "      <td>40990</td>\n",
       "      <td>69th</td>\n",
       "      <td>U</td>\n",
       "      <td>2366</td>\n",
       "    </tr>\n",
       "    <tr>\n",
       "      <th>2001-01-01</th>\n",
       "      <td>40720</td>\n",
       "      <td>East 63rd-Cottage Grove</td>\n",
       "      <td>U</td>\n",
       "      <td>391</td>\n",
       "    </tr>\n",
       "    <tr>\n",
       "      <th>2001-01-01</th>\n",
       "      <td>41480</td>\n",
       "      <td>Western-Brown</td>\n",
       "      <td>U</td>\n",
       "      <td>715</td>\n",
       "    </tr>\n",
       "    <tr>\n",
       "      <th>2001-01-01</th>\n",
       "      <td>40380</td>\n",
       "      <td>Clark/Lake</td>\n",
       "      <td>U</td>\n",
       "      <td>1080</td>\n",
       "    </tr>\n",
       "    <tr>\n",
       "      <th>2001-01-01</th>\n",
       "      <td>41220</td>\n",
       "      <td>Fullerton</td>\n",
       "      <td>U</td>\n",
       "      <td>1763</td>\n",
       "    </tr>\n",
       "  </tbody>\n",
       "</table>\n",
       "</div>"
      ],
      "text/plain": [
       "            station_id              stationname daytype  rides\n",
       "date                                                          \n",
       "2001-01-01       40370      Washington/Dearborn       U   1039\n",
       "2001-01-01       41360          California-Lake       U    213\n",
       "2001-01-01       40610                Ridgeland       U    141\n",
       "2001-01-01       41340                  LaSalle       U    142\n",
       "2001-01-01       40230               Cumberland       U    788\n",
       "2001-01-01       40990                     69th       U   2366\n",
       "2001-01-01       40720  East 63rd-Cottage Grove       U    391\n",
       "2001-01-01       41480            Western-Brown       U    715\n",
       "2001-01-01       40380               Clark/Lake       U   1080\n",
       "2001-01-01       41220                Fullerton       U   1763"
      ]
     },
     "execution_count": 14,
     "metadata": {},
     "output_type": "execute_result"
    }
   ],
   "source": [
    "# Sort the columns by date\n",
    "rides_by_date = df.sort_values(by='date')\n",
    "rides_by_date.head(10)"
   ]
  },
  {
   "cell_type": "markdown",
   "metadata": {},
   "source": [
    "#### Sanity Checking\n",
    "\n",
    "Looks good!  Now let's have a quick look at data for specific stations: the Garfield station at the Red Line and the Green lines, respectively."
   ]
  },
  {
   "cell_type": "code",
   "execution_count": 15,
   "metadata": {},
   "outputs": [
    {
     "data": {
      "text/html": [
       "<div>\n",
       "<style scoped>\n",
       "    .dataframe tbody tr th:only-of-type {\n",
       "        vertical-align: middle;\n",
       "    }\n",
       "\n",
       "    .dataframe tbody tr th {\n",
       "        vertical-align: top;\n",
       "    }\n",
       "\n",
       "    .dataframe thead th {\n",
       "        text-align: right;\n",
       "    }\n",
       "</style>\n",
       "<table border=\"1\" class=\"dataframe\">\n",
       "  <thead>\n",
       "    <tr style=\"text-align: right;\">\n",
       "      <th></th>\n",
       "      <th>station_id</th>\n",
       "      <th>stationname</th>\n",
       "      <th>daytype</th>\n",
       "      <th>rides</th>\n",
       "    </tr>\n",
       "    <tr>\n",
       "      <th>date</th>\n",
       "      <th></th>\n",
       "      <th></th>\n",
       "      <th></th>\n",
       "      <th></th>\n",
       "    </tr>\n",
       "  </thead>\n",
       "  <tbody>\n",
       "    <tr>\n",
       "      <th>2001-01-01</th>\n",
       "      <td>41170</td>\n",
       "      <td>Garfield-Dan Ryan</td>\n",
       "      <td>U</td>\n",
       "      <td>1457</td>\n",
       "    </tr>\n",
       "    <tr>\n",
       "      <th>2001-01-02</th>\n",
       "      <td>41170</td>\n",
       "      <td>Garfield-Dan Ryan</td>\n",
       "      <td>W</td>\n",
       "      <td>3748</td>\n",
       "    </tr>\n",
       "    <tr>\n",
       "      <th>2001-01-03</th>\n",
       "      <td>41170</td>\n",
       "      <td>Garfield-Dan Ryan</td>\n",
       "      <td>W</td>\n",
       "      <td>3977</td>\n",
       "    </tr>\n",
       "    <tr>\n",
       "      <th>2001-01-04</th>\n",
       "      <td>41170</td>\n",
       "      <td>Garfield-Dan Ryan</td>\n",
       "      <td>W</td>\n",
       "      <td>4185</td>\n",
       "    </tr>\n",
       "    <tr>\n",
       "      <th>2001-01-05</th>\n",
       "      <td>41170</td>\n",
       "      <td>Garfield-Dan Ryan</td>\n",
       "      <td>W</td>\n",
       "      <td>4533</td>\n",
       "    </tr>\n",
       "    <tr>\n",
       "      <th>2001-01-06</th>\n",
       "      <td>41170</td>\n",
       "      <td>Garfield-Dan Ryan</td>\n",
       "      <td>A</td>\n",
       "      <td>3341</td>\n",
       "    </tr>\n",
       "    <tr>\n",
       "      <th>2001-01-07</th>\n",
       "      <td>41170</td>\n",
       "      <td>Garfield-Dan Ryan</td>\n",
       "      <td>U</td>\n",
       "      <td>1972</td>\n",
       "    </tr>\n",
       "    <tr>\n",
       "      <th>2001-01-08</th>\n",
       "      <td>41170</td>\n",
       "      <td>Garfield-Dan Ryan</td>\n",
       "      <td>W</td>\n",
       "      <td>4590</td>\n",
       "    </tr>\n",
       "    <tr>\n",
       "      <th>2001-01-09</th>\n",
       "      <td>41170</td>\n",
       "      <td>Garfield-Dan Ryan</td>\n",
       "      <td>W</td>\n",
       "      <td>4511</td>\n",
       "    </tr>\n",
       "    <tr>\n",
       "      <th>2001-01-10</th>\n",
       "      <td>41170</td>\n",
       "      <td>Garfield-Dan Ryan</td>\n",
       "      <td>W</td>\n",
       "      <td>4317</td>\n",
       "    </tr>\n",
       "    <tr>\n",
       "      <th>2001-01-11</th>\n",
       "      <td>41170</td>\n",
       "      <td>Garfield-Dan Ryan</td>\n",
       "      <td>W</td>\n",
       "      <td>4753</td>\n",
       "    </tr>\n",
       "    <tr>\n",
       "      <th>2001-01-12</th>\n",
       "      <td>41170</td>\n",
       "      <td>Garfield-Dan Ryan</td>\n",
       "      <td>W</td>\n",
       "      <td>5094</td>\n",
       "    </tr>\n",
       "    <tr>\n",
       "      <th>2001-01-13</th>\n",
       "      <td>41170</td>\n",
       "      <td>Garfield-Dan Ryan</td>\n",
       "      <td>A</td>\n",
       "      <td>3179</td>\n",
       "    </tr>\n",
       "    <tr>\n",
       "      <th>2001-01-14</th>\n",
       "      <td>41170</td>\n",
       "      <td>Garfield-Dan Ryan</td>\n",
       "      <td>U</td>\n",
       "      <td>2053</td>\n",
       "    </tr>\n",
       "  </tbody>\n",
       "</table>\n",
       "</div>"
      ],
      "text/plain": [
       "            station_id        stationname daytype  rides\n",
       "date                                                    \n",
       "2001-01-01       41170  Garfield-Dan Ryan       U   1457\n",
       "2001-01-02       41170  Garfield-Dan Ryan       W   3748\n",
       "2001-01-03       41170  Garfield-Dan Ryan       W   3977\n",
       "2001-01-04       41170  Garfield-Dan Ryan       W   4185\n",
       "2001-01-05       41170  Garfield-Dan Ryan       W   4533\n",
       "2001-01-06       41170  Garfield-Dan Ryan       A   3341\n",
       "2001-01-07       41170  Garfield-Dan Ryan       U   1972\n",
       "2001-01-08       41170  Garfield-Dan Ryan       W   4590\n",
       "2001-01-09       41170  Garfield-Dan Ryan       W   4511\n",
       "2001-01-10       41170  Garfield-Dan Ryan       W   4317\n",
       "2001-01-11       41170  Garfield-Dan Ryan       W   4753\n",
       "2001-01-12       41170  Garfield-Dan Ryan       W   5094\n",
       "2001-01-13       41170  Garfield-Dan Ryan       A   3179\n",
       "2001-01-14       41170  Garfield-Dan Ryan       U   2053"
      ]
     },
     "execution_count": 15,
     "metadata": {},
     "output_type": "execute_result"
    }
   ],
   "source": [
    "garfield_red = rides_by_date[rides_by_date['stationname']=='Garfield-Dan Ryan']\n",
    "garfield_red.head(14)"
   ]
  },
  {
   "cell_type": "code",
   "execution_count": 16,
   "metadata": {},
   "outputs": [
    {
     "data": {
      "text/html": [
       "<div>\n",
       "<style scoped>\n",
       "    .dataframe tbody tr th:only-of-type {\n",
       "        vertical-align: middle;\n",
       "    }\n",
       "\n",
       "    .dataframe tbody tr th {\n",
       "        vertical-align: top;\n",
       "    }\n",
       "\n",
       "    .dataframe thead th {\n",
       "        text-align: right;\n",
       "    }\n",
       "</style>\n",
       "<table border=\"1\" class=\"dataframe\">\n",
       "  <thead>\n",
       "    <tr style=\"text-align: right;\">\n",
       "      <th></th>\n",
       "      <th>station_id</th>\n",
       "      <th>stationname</th>\n",
       "      <th>daytype</th>\n",
       "      <th>rides</th>\n",
       "    </tr>\n",
       "    <tr>\n",
       "      <th>date</th>\n",
       "      <th></th>\n",
       "      <th></th>\n",
       "      <th></th>\n",
       "      <th></th>\n",
       "    </tr>\n",
       "  </thead>\n",
       "  <tbody>\n",
       "    <tr>\n",
       "      <th>2001-01-01</th>\n",
       "      <td>40510</td>\n",
       "      <td>Garfield-South Elevated</td>\n",
       "      <td>U</td>\n",
       "      <td>248</td>\n",
       "    </tr>\n",
       "    <tr>\n",
       "      <th>2001-01-02</th>\n",
       "      <td>40510</td>\n",
       "      <td>Garfield-South Elevated</td>\n",
       "      <td>W</td>\n",
       "      <td>617</td>\n",
       "    </tr>\n",
       "    <tr>\n",
       "      <th>2001-01-03</th>\n",
       "      <td>40510</td>\n",
       "      <td>Garfield-South Elevated</td>\n",
       "      <td>W</td>\n",
       "      <td>657</td>\n",
       "    </tr>\n",
       "    <tr>\n",
       "      <th>2001-01-04</th>\n",
       "      <td>40510</td>\n",
       "      <td>Garfield-South Elevated</td>\n",
       "      <td>W</td>\n",
       "      <td>697</td>\n",
       "    </tr>\n",
       "    <tr>\n",
       "      <th>2001-01-05</th>\n",
       "      <td>40510</td>\n",
       "      <td>Garfield-South Elevated</td>\n",
       "      <td>W</td>\n",
       "      <td>770</td>\n",
       "    </tr>\n",
       "    <tr>\n",
       "      <th>2001-01-06</th>\n",
       "      <td>40510</td>\n",
       "      <td>Garfield-South Elevated</td>\n",
       "      <td>A</td>\n",
       "      <td>443</td>\n",
       "    </tr>\n",
       "    <tr>\n",
       "      <th>2001-01-07</th>\n",
       "      <td>40510</td>\n",
       "      <td>Garfield-South Elevated</td>\n",
       "      <td>U</td>\n",
       "      <td>295</td>\n",
       "    </tr>\n",
       "    <tr>\n",
       "      <th>2001-01-08</th>\n",
       "      <td>40510</td>\n",
       "      <td>Garfield-South Elevated</td>\n",
       "      <td>W</td>\n",
       "      <td>695</td>\n",
       "    </tr>\n",
       "    <tr>\n",
       "      <th>2001-01-09</th>\n",
       "      <td>40510</td>\n",
       "      <td>Garfield-South Elevated</td>\n",
       "      <td>W</td>\n",
       "      <td>696</td>\n",
       "    </tr>\n",
       "    <tr>\n",
       "      <th>2001-01-10</th>\n",
       "      <td>40510</td>\n",
       "      <td>Garfield-South Elevated</td>\n",
       "      <td>W</td>\n",
       "      <td>756</td>\n",
       "    </tr>\n",
       "    <tr>\n",
       "      <th>2001-01-11</th>\n",
       "      <td>40510</td>\n",
       "      <td>Garfield-South Elevated</td>\n",
       "      <td>W</td>\n",
       "      <td>736</td>\n",
       "    </tr>\n",
       "    <tr>\n",
       "      <th>2001-01-12</th>\n",
       "      <td>40510</td>\n",
       "      <td>Garfield-South Elevated</td>\n",
       "      <td>W</td>\n",
       "      <td>706</td>\n",
       "    </tr>\n",
       "    <tr>\n",
       "      <th>2001-01-13</th>\n",
       "      <td>40510</td>\n",
       "      <td>Garfield-South Elevated</td>\n",
       "      <td>A</td>\n",
       "      <td>522</td>\n",
       "    </tr>\n",
       "    <tr>\n",
       "      <th>2001-01-14</th>\n",
       "      <td>40510</td>\n",
       "      <td>Garfield-South Elevated</td>\n",
       "      <td>U</td>\n",
       "      <td>319</td>\n",
       "    </tr>\n",
       "  </tbody>\n",
       "</table>\n",
       "</div>"
      ],
      "text/plain": [
       "            station_id              stationname daytype  rides\n",
       "date                                                          \n",
       "2001-01-01       40510  Garfield-South Elevated       U    248\n",
       "2001-01-02       40510  Garfield-South Elevated       W    617\n",
       "2001-01-03       40510  Garfield-South Elevated       W    657\n",
       "2001-01-04       40510  Garfield-South Elevated       W    697\n",
       "2001-01-05       40510  Garfield-South Elevated       W    770\n",
       "2001-01-06       40510  Garfield-South Elevated       A    443\n",
       "2001-01-07       40510  Garfield-South Elevated       U    295\n",
       "2001-01-08       40510  Garfield-South Elevated       W    695\n",
       "2001-01-09       40510  Garfield-South Elevated       W    696\n",
       "2001-01-10       40510  Garfield-South Elevated       W    756\n",
       "2001-01-11       40510  Garfield-South Elevated       W    736\n",
       "2001-01-12       40510  Garfield-South Elevated       W    706\n",
       "2001-01-13       40510  Garfield-South Elevated       A    522\n",
       "2001-01-14       40510  Garfield-South Elevated       U    319"
      ]
     },
     "execution_count": 16,
     "metadata": {},
     "output_type": "execute_result"
    }
   ],
   "source": [
    "garfield_green = rides_by_date[rides_by_date['stationname']=='Garfield-South Elevated']\n",
    "garfield_green.head(14)"
   ]
  },
  {
   "cell_type": "markdown",
   "metadata": {},
   "source": [
    "## Visualizing Timeseries Data"
   ]
  },
  {
   "cell_type": "code",
   "execution_count": 17,
   "metadata": {},
   "outputs": [],
   "source": [
    "import matplotlib.pyplot as plt\n",
    "import seaborn as sns\n",
    "\n",
    "%matplotlib inline\n",
    "\n",
    "sns.set(rc={'figure.figsize':(11, 4)})"
   ]
  },
  {
   "cell_type": "code",
   "execution_count": 18,
   "metadata": {},
   "outputs": [
    {
     "data": {
      "text/plain": [
       "<AxesSubplot:xlabel='date'>"
      ]
     },
     "execution_count": 18,
     "metadata": {},
     "output_type": "execute_result"
    },
    {
     "data": {
      "image/png": "[encoded data removed]",
      "text/plain": [
       "<Figure size 792x288 with 1 Axes>"
      ]
     },
     "metadata": {},
     "output_type": "display_data"
    }
   ],
   "source": [
    "garfield_green['rides'].plot(linewidth=0.5)"
   ]
  },
  {
   "cell_type": "code",
   "execution_count": 19,
   "metadata": {},
   "outputs": [
    {
     "data": {
      "text/plain": [
       "<AxesSubplot:xlabel='date'>"
      ]
     },
     "execution_count": 19,
     "metadata": {},
     "output_type": "execute_result"
    },
    {
     "data": {
      "image/png": "[encoded data removed]",
      "text/plain": [
       "<Figure size 792x288 with 1 Axes>"
      ]
     },
     "metadata": {},
     "output_type": "display_data"
    }
   ],
   "source": [
    "garfield_red['rides'].plot(linewidth=0.5)"
   ]
  },
  {
   "cell_type": "markdown",
   "metadata": {},
   "source": [
    "Interesting!  You can see a jump in ridership at the Garfield Green Line ridership right at the same time there's a dip in the Garfield Red Line ridership. What happened?  Here's a clue: https://www.transitchicago.com/redsouth/"
   ]
  },
  {
   "cell_type": "markdown",
   "metadata": {},
   "source": [
    "Let's now go back and see what happened to the Madison/Wabash station. And why there were so many zero values in the data."
   ]
  },
  {
   "cell_type": "code",
   "execution_count": 20,
   "metadata": {},
   "outputs": [
    {
     "data": {
      "text/plain": [
       "<AxesSubplot:xlabel='date'>"
      ]
     },
     "execution_count": 20,
     "metadata": {},
     "output_type": "execute_result"
    },
    {
     "data": {
      "image/png": "[encoded data removed]",
      "text/plain": [
       "<Figure size 792x288 with 1 Axes>"
      ]
     },
     "metadata": {},
     "output_type": "display_data"
    }
   ],
   "source": [
    "rides_by_date[rides_by_date['stationname']=='Madison/Wabash']['rides'].plot(linewidth=0.5)"
   ]
  },
  {
   "cell_type": "markdown",
   "metadata": {},
   "source": [
    "How do we know whether this is just a glitch in the dataset, or a real event? A little web searching can tell you a bit about this station. https://en.wikipedia.org/wiki/Madison/Wabash_station\n",
    "\n",
    "\"Madison/Wabash closed on March 16, 2015, after Sunday service in the Loop ceased for the night. The entrances were boarded up by morning-time, and trains started bypassing the station when Monday morning service started.\""
   ]
  }
 ],
 "metadata": {
  "kernelspec": {
   "display_name": "Python 3",
   "language": "python",
   "name": "python3"
  },
  "language_info": {
   "codemirror_mode": {
    "name": "ipython",
    "version": 3
   },
   "file_extension": ".py",
   "mimetype": "text/x-python",
   "name": "python",
   "nbconvert_exporter": "python",
   "pygments_lexer": "ipython3",
   "version": "3.8.5"
  }
 },
 "nbformat": 4,
 "nbformat_minor": 2
}
