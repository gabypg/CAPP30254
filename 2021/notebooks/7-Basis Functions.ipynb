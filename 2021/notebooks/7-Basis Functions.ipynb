{
 "cells": [
  {
   "cell_type": "markdown",
   "metadata": {},
   "source": [
    "# Features and Basis Functions\n",
    "\n",
    "One can only get so far with linear regression, for two reasons:\n",
    "* Linear models cannot capture the wide variety of functions that we might want to capture in supervised learning.\n",
    "* There are many types of features that aren't naturally represented as vectors of real numbers.\n",
    "\n",
    "The general approach is to introduce features or basis functions that create numerical vectors from a wide variety of different input types."
   ]
  },
  {
   "cell_type": "code",
   "execution_count": 1,
   "metadata": {},
   "outputs": [],
   "source": [
    "from sklearn.linear_model import LinearRegression\n",
    "import numpy as np\n",
    "import matplotlib.pyplot as plt\n",
    "import pandas as pd\n",
    "import seaborn as sns"
   ]
  },
  {
   "cell_type": "markdown",
   "metadata": {},
   "source": [
    "## Step 1: Load and Explore the Data"
   ]
  },
  {
   "cell_type": "markdown",
   "metadata": {},
   "source": [
    "For this lab, we will use the [UC Berkeley Salary Data](https://github.com/dailycal-projects/ucb-faculty-salary) from [2015](https://github.com/dailycal-projects/ucb-faculty-salary/tree/master/data/salary). We can explore a few rows to see what the data looks like."
   ]
  },
  {
   "cell_type": "code",
   "execution_count": 2,
   "metadata": {},
   "outputs": [
    {
     "data": {
      "text/html": [
       "<div>\n",
       "<style scoped>\n",
       "    .dataframe tbody tr th:only-of-type {\n",
       "        vertical-align: middle;\n",
       "    }\n",
       "\n",
       "    .dataframe tbody tr th {\n",
       "        vertical-align: top;\n",
       "    }\n",
       "\n",
       "    .dataframe thead th {\n",
       "        text-align: right;\n",
       "    }\n",
       "</style>\n",
       "<table border=\"1\" class=\"dataframe\">\n",
       "  <thead>\n",
       "    <tr style=\"text-align: right;\">\n",
       "      <th></th>\n",
       "      <th>year</th>\n",
       "      <th>location</th>\n",
       "      <th>first</th>\n",
       "      <th>last</th>\n",
       "      <th>title</th>\n",
       "      <th>gross</th>\n",
       "      <th>regular</th>\n",
       "      <th>overtime</th>\n",
       "      <th>other</th>\n",
       "    </tr>\n",
       "  </thead>\n",
       "  <tbody>\n",
       "    <tr>\n",
       "      <th>0</th>\n",
       "      <td>2015</td>\n",
       "      <td>Berkeley</td>\n",
       "      <td>ANNE</td>\n",
       "      <td>AABOE</td>\n",
       "      <td>BUS SYS ANL 4</td>\n",
       "      <td>124454</td>\n",
       "      <td>124,454</td>\n",
       "      <td>0</td>\n",
       "      <td>0</td>\n",
       "    </tr>\n",
       "    <tr>\n",
       "      <th>1</th>\n",
       "      <td>2015</td>\n",
       "      <td>Berkeley</td>\n",
       "      <td>DAVID</td>\n",
       "      <td>AAKER</td>\n",
       "      <td>RECALL FACULTY</td>\n",
       "      <td>2500</td>\n",
       "      <td>0</td>\n",
       "      <td>0</td>\n",
       "      <td>2,500</td>\n",
       "    </tr>\n",
       "    <tr>\n",
       "      <th>2</th>\n",
       "      <td>2015</td>\n",
       "      <td>Berkeley</td>\n",
       "      <td>ELIZABETH</td>\n",
       "      <td>ABEL</td>\n",
       "      <td>PROF-AY</td>\n",
       "      <td>138775</td>\n",
       "      <td>138,775</td>\n",
       "      <td>0</td>\n",
       "      <td>0</td>\n",
       "    </tr>\n",
       "    <tr>\n",
       "      <th>3</th>\n",
       "      <td>2015</td>\n",
       "      <td>Berkeley</td>\n",
       "      <td>NORMAN</td>\n",
       "      <td>ABRAHAMSON</td>\n",
       "      <td>ADJ PROF-AY-1/9-B/E/E</td>\n",
       "      <td>19668</td>\n",
       "      <td>19,668</td>\n",
       "      <td>0</td>\n",
       "      <td>0</td>\n",
       "    </tr>\n",
       "    <tr>\n",
       "      <th>4</th>\n",
       "      <td>2015</td>\n",
       "      <td>Berkeley</td>\n",
       "      <td>BARBARA</td>\n",
       "      <td>ABRAMS</td>\n",
       "      <td>PROF-AY</td>\n",
       "      <td>191162</td>\n",
       "      <td>169,862</td>\n",
       "      <td>0</td>\n",
       "      <td>21,300</td>\n",
       "    </tr>\n",
       "  </tbody>\n",
       "</table>\n",
       "</div>"
      ],
      "text/plain": [
       "   year  location       first        last                  title   gross  \\\n",
       "0  2015  Berkeley        ANNE       AABOE          BUS SYS ANL 4  124454   \n",
       "1  2015  Berkeley       DAVID       AAKER         RECALL FACULTY    2500   \n",
       "2  2015  Berkeley   ELIZABETH        ABEL                PROF-AY  138775   \n",
       "3  2015  Berkeley      NORMAN  ABRAHAMSON  ADJ PROF-AY-1/9-B/E/E   19668   \n",
       "4  2015  Berkeley     BARBARA      ABRAMS                PROF-AY  191162   \n",
       "\n",
       "   regular overtime   other  \n",
       "0  124,454        0       0  \n",
       "1        0        0   2,500  \n",
       "2  138,775        0       0  \n",
       "3   19,668        0       0  \n",
       "4  169,862        0  21,300  "
      ]
     },
     "execution_count": 2,
     "metadata": {},
     "output_type": "execute_result"
    }
   ],
   "source": [
    "df = pd.read_csv('../../data/ucb-salary-2015.csv.gz', compression='gzip')\n",
    "df['gross'] = df['gross'].str.replace(',', '')\n",
    "df['gross'] = df['gross'].astype(int)\n",
    "df.head(5)"
   ]
  },
  {
   "cell_type": "markdown",
   "metadata": {},
   "source": [
    "Let's take a quick look at the highest titles by mean salary."
   ]
  },
  {
   "cell_type": "code",
   "execution_count": 3,
   "metadata": {},
   "outputs": [
    {
     "data": {
      "text/html": [
       "<div>\n",
       "<style scoped>\n",
       "    .dataframe tbody tr th:only-of-type {\n",
       "        vertical-align: middle;\n",
       "    }\n",
       "\n",
       "    .dataframe tbody tr th {\n",
       "        vertical-align: top;\n",
       "    }\n",
       "\n",
       "    .dataframe thead th {\n",
       "        text-align: right;\n",
       "    }\n",
       "</style>\n",
       "<table border=\"1\" class=\"dataframe\">\n",
       "  <thead>\n",
       "    <tr style=\"text-align: right;\">\n",
       "      <th></th>\n",
       "      <th>title</th>\n",
       "      <th>mean</th>\n",
       "    </tr>\n",
       "  </thead>\n",
       "  <tbody>\n",
       "    <tr>\n",
       "      <th>594</th>\n",
       "      <td>CHF INV OFCR</td>\n",
       "      <td>1106688.0</td>\n",
       "    </tr>\n",
       "    <tr>\n",
       "      <th>2624</th>\n",
       "      <td>SR MGN DIR FIXED INCOME ASSETS</td>\n",
       "      <td>1016853.0</td>\n",
       "    </tr>\n",
       "    <tr>\n",
       "      <th>583</th>\n",
       "      <td>CEO MED CTR</td>\n",
       "      <td>910590.0</td>\n",
       "    </tr>\n",
       "    <tr>\n",
       "      <th>1185</th>\n",
       "      <td>EXEC VP UC HEALTH</td>\n",
       "      <td>786745.0</td>\n",
       "    </tr>\n",
       "    <tr>\n",
       "      <th>2958</th>\n",
       "      <td>VC AND DEAN SOM</td>\n",
       "      <td>634752.0</td>\n",
       "    </tr>\n",
       "    <tr>\n",
       "      <th>827</th>\n",
       "      <td>COO MED CTR</td>\n",
       "      <td>609592.2</td>\n",
       "    </tr>\n",
       "    <tr>\n",
       "      <th>2193</th>\n",
       "      <td>PRESIDENT OF THE UNIV</td>\n",
       "      <td>584503.0</td>\n",
       "    </tr>\n",
       "    <tr>\n",
       "      <th>584</th>\n",
       "      <td>CFO HEALTH SYS AND CAMPUS</td>\n",
       "      <td>551574.0</td>\n",
       "    </tr>\n",
       "    <tr>\n",
       "      <th>711</th>\n",
       "      <td>CMO MED CTR</td>\n",
       "      <td>542879.0</td>\n",
       "    </tr>\n",
       "    <tr>\n",
       "      <th>2579</th>\n",
       "      <td>SENATE EMERITUS (WOS)</td>\n",
       "      <td>538834.0</td>\n",
       "    </tr>\n",
       "  </tbody>\n",
       "</table>\n",
       "</div>"
      ],
      "text/plain": [
       "                               title       mean\n",
       "594                     CHF INV OFCR  1106688.0\n",
       "2624  SR MGN DIR FIXED INCOME ASSETS  1016853.0\n",
       "583                      CEO MED CTR   910590.0\n",
       "1185               EXEC VP UC HEALTH   786745.0\n",
       "2958                 VC AND DEAN SOM   634752.0\n",
       "827                      COO MED CTR   609592.2\n",
       "2193           PRESIDENT OF THE UNIV   584503.0\n",
       "584        CFO HEALTH SYS AND CAMPUS   551574.0\n",
       "711                      CMO MED CTR   542879.0\n",
       "2579           SENATE EMERITUS (WOS)   538834.0"
      ]
     },
     "execution_count": 3,
     "metadata": {},
     "output_type": "execute_result"
    }
   ],
   "source": [
    "mean_salaries = pd.DataFrame(df.groupby(['title'])['gross'] \\\n",
    "                                              .mean() \\\n",
    "                                              .reset_index(name='mean') \\\n",
    "                                              .sort_values(['mean'], ascending=False))\n",
    "mean_salaries[:10]"
   ]
  },
  {
   "cell_type": "markdown",
   "metadata": {},
   "source": [
    "There are a lot of CEO, CFO, CMO titles in the upper salary titles. Let's create a \"C-SUITE\" title category, and then create a dataframe that contains all of these titles, plus all of the academic year faculty."
   ]
  },
  {
   "cell_type": "code",
   "execution_count": 4,
   "metadata": {},
   "outputs": [
    {
     "data": {
      "text/html": [
       "<div>\n",
       "<style scoped>\n",
       "    .dataframe tbody tr th:only-of-type {\n",
       "        vertical-align: middle;\n",
       "    }\n",
       "\n",
       "    .dataframe tbody tr th {\n",
       "        vertical-align: top;\n",
       "    }\n",
       "\n",
       "    .dataframe thead th {\n",
       "        text-align: right;\n",
       "    }\n",
       "</style>\n",
       "<table border=\"1\" class=\"dataframe\">\n",
       "  <thead>\n",
       "    <tr style=\"text-align: right;\">\n",
       "      <th></th>\n",
       "      <th>title</th>\n",
       "      <th>count</th>\n",
       "    </tr>\n",
       "  </thead>\n",
       "  <tbody>\n",
       "    <tr>\n",
       "      <th>2241</th>\n",
       "      <td>PROF-AY</td>\n",
       "      <td>3334</td>\n",
       "    </tr>\n",
       "    <tr>\n",
       "      <th>317</th>\n",
       "      <td>ASSOC PROF-AY</td>\n",
       "      <td>1387</td>\n",
       "    </tr>\n",
       "    <tr>\n",
       "      <th>2244</th>\n",
       "      <td>PROF-AY-B/E/E</td>\n",
       "      <td>1139</td>\n",
       "    </tr>\n",
       "    <tr>\n",
       "      <th>365</th>\n",
       "      <td>ASST PROF-AY</td>\n",
       "      <td>980</td>\n",
       "    </tr>\n",
       "    <tr>\n",
       "      <th>368</th>\n",
       "      <td>ASST PROF-AY-B/E/E</td>\n",
       "      <td>366</td>\n",
       "    </tr>\n",
       "    <tr>\n",
       "      <th>319</th>\n",
       "      <td>ASSOC PROF-AY-B/E/E</td>\n",
       "      <td>313</td>\n",
       "    </tr>\n",
       "    <tr>\n",
       "      <th>2246</th>\n",
       "      <td>PROF-AY-LAW</td>\n",
       "      <td>158</td>\n",
       "    </tr>\n",
       "    <tr>\n",
       "      <th>340</th>\n",
       "      <td>ASST ADJ PROF-AY</td>\n",
       "      <td>142</td>\n",
       "    </tr>\n",
       "    <tr>\n",
       "      <th>90</th>\n",
       "      <td>ADJ PROF-AY</td>\n",
       "      <td>83</td>\n",
       "    </tr>\n",
       "    <tr>\n",
       "      <th>286</th>\n",
       "      <td>ASSOC ADJ PROF-AY</td>\n",
       "      <td>49</td>\n",
       "    </tr>\n",
       "    <tr>\n",
       "      <th>1498</th>\n",
       "      <td>HS ASST CLIN PROF-AY</td>\n",
       "      <td>44</td>\n",
       "    </tr>\n",
       "    <tr>\n",
       "      <th>93</th>\n",
       "      <td>ADJ PROF-AY-B/E/E</td>\n",
       "      <td>38</td>\n",
       "    </tr>\n",
       "    <tr>\n",
       "      <th>79</th>\n",
       "      <td>ACT PROF-AY-LAW</td>\n",
       "      <td>29</td>\n",
       "    </tr>\n",
       "    <tr>\n",
       "      <th>543</th>\n",
       "      <td>C-SUITE</td>\n",
       "      <td>22</td>\n",
       "    </tr>\n",
       "    <tr>\n",
       "      <th>91</th>\n",
       "      <td>ADJ PROF-AY-1/9</td>\n",
       "      <td>13</td>\n",
       "    </tr>\n",
       "    <tr>\n",
       "      <th>1495</th>\n",
       "      <td>HS ASSOC CLIN PROF-AY</td>\n",
       "      <td>13</td>\n",
       "    </tr>\n",
       "    <tr>\n",
       "      <th>341</th>\n",
       "      <td>ASST ADJ PROF-AY-1/9</td>\n",
       "      <td>11</td>\n",
       "    </tr>\n",
       "    <tr>\n",
       "      <th>343</th>\n",
       "      <td>ASST ADJ PROF-AY-B/E/E</td>\n",
       "      <td>11</td>\n",
       "    </tr>\n",
       "    <tr>\n",
       "      <th>1505</th>\n",
       "      <td>HS CLIN PROF-AY</td>\n",
       "      <td>10</td>\n",
       "    </tr>\n",
       "    <tr>\n",
       "      <th>75</th>\n",
       "      <td>ACT ASST PROF-AY</td>\n",
       "      <td>9</td>\n",
       "    </tr>\n",
       "    <tr>\n",
       "      <th>289</th>\n",
       "      <td>ASSOC ADJ PROF-AY-B/E/E</td>\n",
       "      <td>8</td>\n",
       "    </tr>\n",
       "    <tr>\n",
       "      <th>92</th>\n",
       "      <td>ADJ PROF-AY-1/9-B/E/E</td>\n",
       "      <td>8</td>\n",
       "    </tr>\n",
       "    <tr>\n",
       "      <th>287</th>\n",
       "      <td>ASSOC ADJ PROF-AY-1/9</td>\n",
       "      <td>7</td>\n",
       "    </tr>\n",
       "    <tr>\n",
       "      <th>366</th>\n",
       "      <td>ASST PROF-AY-1/9</td>\n",
       "      <td>5</td>\n",
       "    </tr>\n",
       "    <tr>\n",
       "      <th>288</th>\n",
       "      <td>ASSOC ADJ PROF-AY-1/9-B/E/E</td>\n",
       "      <td>5</td>\n",
       "    </tr>\n",
       "    <tr>\n",
       "      <th>367</th>\n",
       "      <td>ASST PROF-AY-1/9-B/E/E</td>\n",
       "      <td>3</td>\n",
       "    </tr>\n",
       "    <tr>\n",
       "      <th>342</th>\n",
       "      <td>ASST ADJ PROF-AY-1/9-B/E/E</td>\n",
       "      <td>3</td>\n",
       "    </tr>\n",
       "    <tr>\n",
       "      <th>78</th>\n",
       "      <td>ACT PROF-AY</td>\n",
       "      <td>3</td>\n",
       "    </tr>\n",
       "    <tr>\n",
       "      <th>76</th>\n",
       "      <td>ACT ASST PROF-AY-B/E/E</td>\n",
       "      <td>2</td>\n",
       "    </tr>\n",
       "    <tr>\n",
       "      <th>72</th>\n",
       "      <td>ACT ASSOC PROF-AY-B/E/E</td>\n",
       "      <td>2</td>\n",
       "    </tr>\n",
       "    <tr>\n",
       "      <th>70</th>\n",
       "      <td>ACT ASSOC PROF-AY</td>\n",
       "      <td>2</td>\n",
       "    </tr>\n",
       "    <tr>\n",
       "      <th>2242</th>\n",
       "      <td>PROF-AY-1/9-B/E/E</td>\n",
       "      <td>2</td>\n",
       "    </tr>\n",
       "    <tr>\n",
       "      <th>3027</th>\n",
       "      <td>VSTG PROF-AY-1/9-BUS/ECON/ENGR</td>\n",
       "      <td>2</td>\n",
       "    </tr>\n",
       "    <tr>\n",
       "      <th>71</th>\n",
       "      <td>ACT ASSOC PROF-AY-1/9-B/E/E</td>\n",
       "      <td>1</td>\n",
       "    </tr>\n",
       "    <tr>\n",
       "      <th>2243</th>\n",
       "      <td>PROF-AY-1/9-BUS/ECON/ENG-RECAL</td>\n",
       "      <td>1</td>\n",
       "    </tr>\n",
       "    <tr>\n",
       "      <th>2245</th>\n",
       "      <td>PROF-AY-BUS/ECON/ENG-RECALLED</td>\n",
       "      <td>1</td>\n",
       "    </tr>\n",
       "    <tr>\n",
       "      <th>318</th>\n",
       "      <td>ASSOC PROF-AY-1/9-B/E/E</td>\n",
       "      <td>1</td>\n",
       "    </tr>\n",
       "  </tbody>\n",
       "</table>\n",
       "</div>"
      ],
      "text/plain": [
       "                               title  count\n",
       "2241                         PROF-AY   3334\n",
       "317                    ASSOC PROF-AY   1387\n",
       "2244                   PROF-AY-B/E/E   1139\n",
       "365                     ASST PROF-AY    980\n",
       "368               ASST PROF-AY-B/E/E    366\n",
       "319              ASSOC PROF-AY-B/E/E    313\n",
       "2246                     PROF-AY-LAW    158\n",
       "340                 ASST ADJ PROF-AY    142\n",
       "90                       ADJ PROF-AY     83\n",
       "286                ASSOC ADJ PROF-AY     49\n",
       "1498            HS ASST CLIN PROF-AY     44\n",
       "93                 ADJ PROF-AY-B/E/E     38\n",
       "79                   ACT PROF-AY-LAW     29\n",
       "543                          C-SUITE     22\n",
       "91                   ADJ PROF-AY-1/9     13\n",
       "1495           HS ASSOC CLIN PROF-AY     13\n",
       "341             ASST ADJ PROF-AY-1/9     11\n",
       "343           ASST ADJ PROF-AY-B/E/E     11\n",
       "1505                 HS CLIN PROF-AY     10\n",
       "75                  ACT ASST PROF-AY      9\n",
       "289          ASSOC ADJ PROF-AY-B/E/E      8\n",
       "92             ADJ PROF-AY-1/9-B/E/E      8\n",
       "287            ASSOC ADJ PROF-AY-1/9      7\n",
       "366                 ASST PROF-AY-1/9      5\n",
       "288      ASSOC ADJ PROF-AY-1/9-B/E/E      5\n",
       "367           ASST PROF-AY-1/9-B/E/E      3\n",
       "342       ASST ADJ PROF-AY-1/9-B/E/E      3\n",
       "78                       ACT PROF-AY      3\n",
       "76            ACT ASST PROF-AY-B/E/E      2\n",
       "72           ACT ASSOC PROF-AY-B/E/E      2\n",
       "70                 ACT ASSOC PROF-AY      2\n",
       "2242               PROF-AY-1/9-B/E/E      2\n",
       "3027  VSTG PROF-AY-1/9-BUS/ECON/ENGR      2\n",
       "71       ACT ASSOC PROF-AY-1/9-B/E/E      1\n",
       "2243  PROF-AY-1/9-BUS/ECON/ENG-RECAL      1\n",
       "2245   PROF-AY-BUS/ECON/ENG-RECALLED      1\n",
       "318          ASSOC PROF-AY-1/9-B/E/E      1"
      ]
     },
     "execution_count": 4,
     "metadata": {},
     "output_type": "execute_result"
    }
   ],
   "source": [
    "df['title'] = df['title'].str.replace(r'.*C[EFM]O.*', 'C-SUITE')\n",
    "\n",
    "msdf = pd.DataFrame(df.groupby(['title'])['gross'] \\\n",
    "                                              .count() \\\n",
    "                                              .reset_index(name='count') \\\n",
    "                                              .sort_values(['count'], ascending=False))\n",
    "\n",
    "ms_prof = msdf[(msdf['title'].str.contains('PROF-AY')) |\n",
    "               (msdf['title'].str.contains('C-SUITE'))\n",
    "              ]\n",
    "ms_prof[:50]"
   ]
  },
  {
   "cell_type": "markdown",
   "metadata": {},
   "source": [
    "Let's visualize the distribution of salaries in each of these title classes compared to the C-Suite employees by creating a dataframe that contains the academic year professors, plus the C-Suite employees, with each of these titles in a separate column.  We can group each of these by title and sort the bars by median."
   ]
  },
  {
   "cell_type": "code",
   "execution_count": 5,
   "metadata": {},
   "outputs": [],
   "source": [
    "titles = [\n",
    "          'C-SUITE',\n",
    "          'PROF-AY-LAW', \n",
    "          'ASST PROF-AY', 'ASSOC PROF-AY', 'PROF-AY',\n",
    "          'ASST ADJ PROF-AY', 'ASSOC ADJ PROF-AY', 'ADJ PROF-AY',  'ACT ASST PROF-AY', \n",
    "          'PROF-AY-B/E/E', 'ASSOC PROF-AY-B/E/E', 'ASST PROF-AY-B/E/E'\n",
    "         ]\n",
    "\n",
    "df_profs = df[df['title'].isin(titles)]\n",
    "df_index = df_profs.groupby('title').median()['gross'].sort_values().index"
   ]
  },
  {
   "cell_type": "code",
   "execution_count": 6,
   "metadata": {},
   "outputs": [
    {
     "data": {
      "text/plain": [
       "[Text(0, 0, 'ACT ASST PROF-AY'),\n",
       " Text(1, 0, 'ASST ADJ PROF-AY'),\n",
       " Text(2, 0, 'ASSOC ADJ PROF-AY'),\n",
       " Text(3, 0, 'ADJ PROF-AY'),\n",
       " Text(4, 0, 'ASST PROF-AY'),\n",
       " Text(5, 0, 'ASSOC PROF-AY'),\n",
       " Text(6, 0, 'ASST PROF-AY-B/E/E'),\n",
       " Text(7, 0, 'ASSOC PROF-AY-B/E/E'),\n",
       " Text(8, 0, 'PROF-AY'),\n",
       " Text(9, 0, 'PROF-AY-B/E/E'),\n",
       " Text(10, 0, 'PROF-AY-LAW'),\n",
       " Text(11, 0, 'C-SUITE')]"
      ]
     },
     "execution_count": 6,
     "metadata": {},
     "output_type": "execute_result"
    },
    {
     "data": {
      "image/png": "[encoded data removed]",
      "text/plain": [
       "<Figure size 792x288 with 1 Axes>"
      ]
     },
     "metadata": {},
     "output_type": "display_data"
    }
   ],
   "source": [
    "sns.set(rc={'figure.figsize':(11, 4)})\n",
    "ax = sns.boxplot(x=\"title\", y=\"gross\", data=df_profs, order=df_index)\n",
    "ax.set_xticklabels(ax.get_xticklabels(),rotation=90)"
   ]
  },
  {
   "cell_type": "markdown",
   "metadata": {},
   "source": [
    "## Step 2: Linear Regression\n",
    "\n",
    "We'll try to fit the above salaries to titles using linear regression, using standard features and a polynomial feature expansion.\n",
    "\n",
    "### 2.1 Polynomial Feature Expansion\n",
    "\n",
    "Recall that one of the benefits of a polynomial feature expansion is that it is possible to encode features that are non-real valued (in this case, title) and try to fit a linear model to the resulting polynomial expansion.\n",
    "\n",
    "We will do that below.  Let's first create the regular features and then the polynomial expansion."
   ]
  },
  {
   "cell_type": "code",
   "execution_count": 7,
   "metadata": {},
   "outputs": [
    {
     "data": {
      "text/plain": [
       "array([[0.000e+00, 0.000e+00, 0.000e+00],\n",
       "       [1.000e+00, 1.000e+00, 1.000e+00],\n",
       "       [2.000e+00, 4.000e+00, 8.000e+00],\n",
       "       [3.000e+00, 9.000e+00, 2.700e+01],\n",
       "       [4.000e+00, 1.600e+01, 6.400e+01],\n",
       "       [5.000e+00, 2.500e+01, 1.250e+02],\n",
       "       [6.000e+00, 3.600e+01, 2.160e+02],\n",
       "       [7.000e+00, 4.900e+01, 3.430e+02],\n",
       "       [8.000e+00, 6.400e+01, 5.120e+02],\n",
       "       [9.000e+00, 8.100e+01, 7.290e+02],\n",
       "       [1.000e+01, 1.000e+02, 1.000e+03],\n",
       "       [1.100e+01, 1.210e+02, 1.331e+03]])"
      ]
     },
     "execution_count": 7,
     "metadata": {},
     "output_type": "execute_result"
    }
   ],
   "source": [
    "df_median = pd.DataFrame(df_profs.groupby('title').median()['gross'].sort_values())\n",
    "df_median.reset_index(inplace=True)\n",
    "\n",
    "# Define Features and Target\n",
    "features = df_median.index.values.reshape(-1,1)\n",
    "target = df_median.loc[:,'gross']\n",
    "\n",
    "# Polynomial Features\n",
    "from sklearn.preprocessing import PolynomialFeatures\n",
    "poly = PolynomialFeatures(degree=3, include_bias=False)\n",
    "pf = poly.fit_transform(features)\n",
    "\n",
    "pf"
   ]
  },
  {
   "cell_type": "markdown",
   "metadata": {},
   "source": [
    "### 2.2 Linear Regression Training and Testing\n",
    "\n",
    "We now train the two linear models: one with regular features, and the other with polynomial features."
   ]
  },
  {
   "cell_type": "code",
   "execution_count": 8,
   "metadata": {},
   "outputs": [],
   "source": [
    "# 1. Linear Prediction\n",
    "regr = LinearRegression()\n",
    "lm = regr.fit(features,target)\n",
    "y_hat = regr.predict(features)\n",
    "\n",
    "# 2. Linear Prediction, Polynomial Feature\n",
    "pregr = LinearRegression()\n",
    "pm = pregr.fit(pf,target)\n",
    "y2_hat = pregr.predict(poly.fit_transform(features))"
   ]
  },
  {
   "cell_type": "markdown",
   "metadata": {},
   "source": [
    "Finally, we can plot the result and see the result."
   ]
  },
  {
   "cell_type": "code",
   "execution_count": 9,
   "metadata": {},
   "outputs": [
    {
     "data": {
      "image/png": "[encoded data removed]",
      "text/plain": [
       "<Figure size 792x288 with 1 Axes>"
      ]
     },
     "metadata": {},
     "output_type": "display_data"
    }
   ],
   "source": [
    "# Points\n",
    "plt.plot(features, target, '.', color='blue', markersize=12)\n",
    "\n",
    "# Linear Regression\n",
    "plt.plot(features, y_hat, color='red', alpha=0.4, linewidth=3)\n",
    "plt.plot(features, y2_hat, color='green', alpha=0.4, linewidth=3)\n",
    "\n",
    "plt.grid(linestyle='--', alpha=0.6)\n",
    "plt.xticks(rotation=90)\n",
    "plt.xlabel('Level')\n",
    "plt.ylabel('Median Salary')\n",
    "plt.show()"
   ]
  },
  {
   "cell_type": "markdown",
   "metadata": {},
   "source": [
    "### 2.3 Evaluating the Model\n",
    "\n",
    "Comparing the RSS of the two models shows that the polynomial feature expansion indeed helped reduce the error."
   ]
  },
  {
   "cell_type": "code",
   "execution_count": 10,
   "metadata": {},
   "outputs": [
    {
     "name": "stdout",
     "output_type": "stream",
     "text": [
      "\n",
      "RSS Linear Features:\t\t66473.79060403422 \n",
      "RSS Polynomial Features:\t28001.05556779706\n",
      "\n"
     ]
    }
   ],
   "source": [
    "from sklearn.metrics import mean_squared_error\n",
    "\n",
    "print(\"\"\"\n",
    "RSS Linear Features:\\t\\t{} \n",
    "RSS Polynomial Features:\\t{}\n",
    "\"\"\".format(\n",
    "            np.sqrt(mean_squared_error(target, y_hat)),\n",
    "            np.sqrt(mean_squared_error(target, y2_hat)\n",
    "                   )))"
   ]
  },
  {
   "cell_type": "markdown",
   "metadata": {},
   "source": [
    "## Plotting in Seaborn"
   ]
  },
  {
   "cell_type": "code",
   "execution_count": 11,
   "metadata": {},
   "outputs": [
    {
     "name": "stderr",
     "output_type": "stream",
     "text": [
      "/usr/local/lib/python3.8/dist-packages/seaborn/_decorators.py:36: FutureWarning: Pass the following variables as keyword args: x, y. From version 0.12, the only valid positional argument will be `data`, and passing other arguments without an explicit keyword will result in an error or misinterpretation.\n",
      "  warnings.warn(\n",
      "/usr/local/lib/python3.8/dist-packages/seaborn/_decorators.py:36: FutureWarning: Pass the following variables as keyword args: x, y. From version 0.12, the only valid positional argument will be `data`, and passing other arguments without an explicit keyword will result in an error or misinterpretation.\n",
      "  warnings.warn(\n"
     ]
    },
    {
     "data": {
      "text/plain": [
       "<AxesSubplot:xlabel='idx', ylabel='gross'>"
      ]
     },
     "execution_count": 11,
     "metadata": {},
     "output_type": "execute_result"
    },
    {
     "data": {
      "image/png": "[encoded data removed]",
      "text/plain": [
       "<Figure size 792x288 with 1 Axes>"
      ]
     },
     "metadata": {},
     "output_type": "display_data"
    }
   ],
   "source": [
    "df_median['idx'] = df_median.index.values\n",
    "sns.regplot('idx','gross',data=df_median.reset_index())\n",
    "sns.regplot('idx','gross',data=df_median.reset_index(),order=3)"
   ]
  }
 ],
 "metadata": {
  "kernelspec": {
   "display_name": "Python 3",
   "language": "python",
   "name": "python3"
  },
  "language_info": {
   "codemirror_mode": {
    "name": "ipython",
    "version": 3
   },
   "file_extension": ".py",
   "mimetype": "text/x-python",
   "name": "python",
   "nbconvert_exporter": "python",
   "pygments_lexer": "ipython3",
   "version": "3.8.5"
  }
 },
 "nbformat": 4,
 "nbformat_minor": 2
}
