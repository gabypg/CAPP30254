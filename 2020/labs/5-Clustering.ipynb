{
 "cells": [
  {
   "cell_type": "markdown",
   "metadata": {},
   "source": [
    "# Lab 5: Clustering\n",
    "\n",
    "In this assignment, you will explore clustering-based algorithms to explore 311 Service Request data in Chicago.\n",
    "\n",
    "## Learning Objectives\n",
    "\n",
    "In this assignment, you will learn the following:\n",
    "* How to work with various clustering methods, including K-Means and Hierarchical Agglomeration \n",
    "* How to work with Chicago's 311 Service Request data\n",
    "* How to characterize and interpret the outputs of clustering algorithms \n",
    "* How to evaluate the output of clustering algorithms"
   ]
  },
  {
   "cell_type": "markdown",
   "metadata": {},
   "source": [
    "## Part 1: Loading the Data\n",
    "\n",
    "### 1.1 Download the Data\n",
    "\n",
    "Download the 311 Service Request data from the [City of Chicago Open Data Portal](https://data.cityofchicago.org/Service-Requests/311-Service-Requests/v6vf-nfxy). For this assignment, we will only use requests made in 2018 (where `created_date` is 2018). We've provided the code for pulling this data below. \n",
    "\n",
    "Print out the shape of your dataset and the first 5 rows below. Note that you should have 461,170 rows."
   ]
  },
  {
   "cell_type": "code",
   "execution_count": 1,
   "metadata": {},
   "outputs": [
    {
     "name": "stderr",
     "output_type": "stream",
     "text": [
      "WARNING:root:Requests made without an app_token will be subject to strict throttling limits.\n"
     ]
    }
   ],
   "source": [
    "import pandas as pd\n",
    "from sodapy import Socrata\n",
    "\n",
    "# Init Socrata client\n",
    "client = Socrata(\"data.cityofchicago.org\", None)\n",
    "\n",
    "# Query Socrata client to get first 500K rows of 311 requests made in 2018\n",
    "results = client.get(\"v6vf-nfxy\", limit=500000, where=\"date_extract_y(created_date) = 2018\")\n",
    "\n",
    "# Convert to pandas DataFrame\n",
    "results_df = pd.DataFrame.from_records(results)"
   ]
  },
  {
   "cell_type": "code",
   "execution_count": 2,
   "metadata": {},
   "outputs": [],
   "source": [
    "# YOUR CODE HERE "
   ]
  },
  {
   "cell_type": "markdown",
   "metadata": {},
   "source": [
    "### 1.2 Preprocess the Data\n",
    "\n",
    "First, we will aggregate the data to count the number of each service request type per [Chicago community area](https://en.wikipedia.org/wiki/Community_areas_in_Chicago).\n",
    "\n",
    "1. Drop all records without a `community_area` value. \n",
    "2. Create a dataframe where each row is a community area, and each column is the **proportion** of a particular type of service request in that community area.\n",
    "3. Print the first 5 rows of your dataframe.\n",
    "\n",
    "You should have 77 rows (one for each community area) and 92 columns (one for each type of service request). To keep your column names short, you may want to use the service request short code (`sr_short_code`) rather than the full text of the service request type."
   ]
  },
  {
   "cell_type": "code",
   "execution_count": 3,
   "metadata": {},
   "outputs": [],
   "source": [
    "# YOUR CODE HERE "
   ]
  },
  {
   "cell_type": "markdown",
   "metadata": {},
   "source": [
    "## Part 2: Clustering the Data\n",
    "\n",
    "### 2.1 K-Means\n",
    "\n",
    "#### 2.1.1 Clustering\n",
    "\n",
    "1. Cluster your community areas using K-Means. Use `random_state=0` and set `k=3`.\n",
    "2. Print the array of cluster labels."
   ]
  },
  {
   "cell_type": "code",
   "execution_count": 4,
   "metadata": {},
   "outputs": [],
   "source": [
    "# YOUR CODE HERE "
   ]
  },
  {
   "cell_type": "markdown",
   "metadata": {},
   "source": [
    "#### 2.1.2 Analysing Clusters\n",
    "\n",
    "For each cluster: \n",
    "1. Provide summary stats for the cluster.\n",
    "2. Describe - using statistics, graphs, or any other visualization - what types of data points are in this cluster.\n",
    "3. What are the distinctive features for this cluster? Hint: you may want to use a decision tree here."
   ]
  },
  {
   "cell_type": "code",
   "execution_count": 5,
   "metadata": {},
   "outputs": [],
   "source": [
    "# YOUR CODE HERE "
   ]
  },
  {
   "cell_type": "markdown",
   "metadata": {},
   "source": [
    "*YOUR ANSWER HERE*"
   ]
  },
  {
   "cell_type": "markdown",
   "metadata": {},
   "source": [
    "#### 2.1.3 Experimenting with Parameters\n",
    "\n",
    "Explore how changing the number of clusters (`k`) affects the results above. Your analysis should include at least one visualization and a 5-7 sentence summary.  "
   ]
  },
  {
   "cell_type": "code",
   "execution_count": 6,
   "metadata": {},
   "outputs": [],
   "source": [
    "# YOUR CODE HERE"
   ]
  },
  {
   "cell_type": "markdown",
   "metadata": {},
   "source": [
    "*YOUR ANSWER HERE*"
   ]
  },
  {
   "cell_type": "markdown",
   "metadata": {},
   "source": [
    "### 2.2 Agglomerative Clustering\n",
    "\n",
    "#### 2.2.1 Clustering\n",
    "\n",
    "1. Cluster your community areas using Agglomerative Clustering. Use `random_state=0`.\n",
    "2. Print the array of cluster labels. How do your new clusters differ from the ones you discovered using K-Means?"
   ]
  },
  {
   "cell_type": "code",
   "execution_count": 7,
   "metadata": {},
   "outputs": [],
   "source": [
    "# YOUR CODE HERE"
   ]
  },
  {
   "cell_type": "markdown",
   "metadata": {},
   "source": [
    "#### 2.2.2 Analysing Clusters\n",
    "\n",
    "For each cluster: \n",
    "1. Provide summary stats for the cluster.\n",
    "2. Describe - using statistics, graphs, or any other visualization - what types of data points are in this cluster.\n",
    "3. What are the distinctive features for this cluster? Hint: you may want to use a decision tree here."
   ]
  },
  {
   "cell_type": "code",
   "execution_count": 8,
   "metadata": {},
   "outputs": [],
   "source": [
    "# YOUR CODE HERE"
   ]
  },
  {
   "cell_type": "markdown",
   "metadata": {},
   "source": [
    "*YOUR ANSWER HERE*"
   ]
  },
  {
   "cell_type": "markdown",
   "metadata": {},
   "source": [
    "#### 2.2.3 Experimenting with Parameters\n",
    "\n",
    "Explore how changing the distance metric (`affinity`) affects the results above. Your analysis should include at least one visualization and a 5-7 sentence summary.  "
   ]
  },
  {
   "cell_type": "code",
   "execution_count": 9,
   "metadata": {},
   "outputs": [],
   "source": [
    "# YOUR CODE HERE"
   ]
  },
  {
   "cell_type": "markdown",
   "metadata": {},
   "source": [
    "*YOUR ANSWER HERE*"
   ]
  },
  {
   "cell_type": "markdown",
   "metadata": {},
   "source": [
    "## Part 3: Open-Ended Exploration \n",
    "\n",
    "Note that this section is intentionally open-ended. The goal is to explore how integrating additional data and dimensionality reduction techniques can affect the robustness of your clusters. \n",
    "\n",
    "In this section, you are welcome to use K-Means, Agglomerative Clustering, or to try out additional clustering methods discussed in class. \n",
    "\n",
    "### 3.1 Integrating Additional Data \n",
    "\n",
    "Add at least three additional variables to your dataframe. For example, this might include demographic characteristics for the community areas. Feel free to pull this data from the Census (e.g. American Community Survey) or from the [City of Chicago Open Data Portal](https://data.cityofchicago.org/). \n",
    "\n",
    "Describe how including this additional data affects your clusters above. Again, include a 5-7 sentence summary of your analysis. "
   ]
  },
  {
   "cell_type": "code",
   "execution_count": 10,
   "metadata": {},
   "outputs": [],
   "source": [
    "# YOUR CODE HERE"
   ]
  },
  {
   "cell_type": "markdown",
   "metadata": {},
   "source": [
    "*YOUR ANSWER HERE*"
   ]
  },
  {
   "cell_type": "markdown",
   "metadata": {},
   "source": [
    "### 3.2 Dimensionality Reduction \n",
    "\n",
    "Above, we clustered on 92 features corresponding to each of the service request types. We suspect that dimensionality reduction can be used to shrink this feature space while still capturing much of the relevant relationships in the data. \n",
    "\n",
    "Here, explore how principal component analysis (PCA) and clustering can be combined. First perform PCA on your features, and then cluster on the first N principal components. Be sure to justify your choice in N. \n",
    "\n",
    "Again, provide a 5-7 sentence summary of your analysis. "
   ]
  },
  {
   "cell_type": "code",
   "execution_count": 11,
   "metadata": {},
   "outputs": [],
   "source": [
    "# YOUR CODE HERE"
   ]
  },
  {
   "cell_type": "markdown",
   "metadata": {},
   "source": [
    "*YOUR ANSWER HERE*"
   ]
  }
 ],
 "metadata": {
  "kernelspec": {
   "display_name": "Python 3",
   "language": "python",
   "name": "python3"
  },
  "language_info": {
   "codemirror_mode": {
    "name": "ipython",
    "version": 3
   },
   "file_extension": ".py",
   "mimetype": "text/x-python",
   "name": "python",
   "nbconvert_exporter": "python",
   "pygments_lexer": "ipython3",
   "version": "3.7.7"
  }
 },
 "nbformat": 4,
 "nbformat_minor": 2
}
