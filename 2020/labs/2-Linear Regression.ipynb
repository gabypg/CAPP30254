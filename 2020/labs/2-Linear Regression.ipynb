{
 "cells": [
  {
   "cell_type": "markdown",
   "metadata": {},
   "source": [
    "# Lab 2: Linear Regression\n",
    "\n",
    "The purpose of this lab is to give you some hands on experience applying linear regression to a real-world dataset. We will use a truncated version of the Divvy Bike Share dataset that we used in the last lecture. \n",
    "\n",
    "## Learning Objectives\n",
    "\n",
    "In this lab, you should gain experience applying linear regression to a real-world dataset, after exploring the linear relationships in the dataset. You will also learn to apply some basic metrics for the goodness of fit of your linear regresison model.\n",
    "\n",
    "After completing this lab, you should be able to: \n",
    "\n",
    "1. Manipulate a dataset in Python/Pandas/Jupyter Notebooks.\n",
    "2. Learn about the importance of pre-processing your dataset, as well as how to do so. You should learn about:\n",
    "    * Various ways to truncate and subset your data.\n",
    "    * Normalizing your dataset in preparation for training and testing.\n",
    "3. Learn how to apply the `scikit-learn` Linear Regression model to a real-world dataset, based on concepts that we covered in class. You should learn about:\n",
    "    * Splitting your data into a training and testing set.\n",
    "    * Creating a model. \n",
    "    * Combining data and metrics from multiple models.\n",
    "4. Learn how to evaluate your model. You should learn how to evaluate the various aspects of feature importance in your dataset, including MAE, MSE and $R^2$."
   ]
  },
  {
   "cell_type": "markdown",
   "metadata": {},
   "source": [
    "## 1. Loading and Preparing Your Datasets\n",
    "\n",
    "### 1.1 Load the Divvy Bike Share Data\n",
    "\n",
    "Download the smaller version of the [Divvy Trip data](https://data.cityofchicago.org/Transportation/Divvy-Trips/fg6s-gzvg) that we have provided on Box called `Divvy_Trips_2018.csv.gz`. Load this as a Pandas data frame."
   ]
  },
  {
   "cell_type": "code",
   "execution_count": 1,
   "metadata": {},
   "outputs": [],
   "source": [
    "# YOUR CODE HERE"
   ]
  },
  {
   "cell_type": "markdown",
   "metadata": {},
   "source": [
    "### 1.2 Load the Weather Data from NOAA\n",
    "\n",
    "We have downloaded some historical weather data for Chicago from the National Oceanic and Atmospheric Administration (NOAA) and provided the dataset on Box for download under `chicago-weather.csv.gz`. Load this as a Pandas data frame. \n",
    "\n",
    "If you are curious about how we obtained the dataset, you can read about the available data (and make your own requests) [here](https://www.ncdc.noaa.gov/cdo-web/search).You will also find this [documentation](https://www1.ncdc.noaa.gov/pub/data/cdo/documentation/GHCND_documentation.pdf) about the dataset useful, particularly the part describing the meanings of various columns."
   ]
  },
  {
   "cell_type": "code",
   "execution_count": 2,
   "metadata": {},
   "outputs": [],
   "source": [
    "# YOUR CODE HERE"
   ]
  },
  {
   "cell_type": "markdown",
   "metadata": {},
   "source": [
    "### 1.3 Basic Data Analysis and Manipulation\n",
    "\n",
    "We have provided some summary code below from the last lab, formatted to give you a good sense of what the datasets entail, as far as size, dates, and so forth. Note that in this example, the Divvy data frame is called `ddf` and the weather data frame is called `wdf`. "
   ]
  },
  {
   "cell_type": "markdown",
   "metadata": {},
   "source": [
    "Let's do a brief review/overview of the data just to see what we have. This is a bit of a review of last week.\n",
    "\n",
    "#### 1.4.1 How many rows are in each dataset, and what date ranges do the dataset span?\n",
    "\n",
    "This one we've done for you, to get you started, since it's a review from last week."
   ]
  },
  {
   "cell_type": "code",
   "execution_count": 3,
   "metadata": {},
   "outputs": [],
   "source": [
    "# YOUR CODE HERE"
   ]
  },
  {
   "cell_type": "markdown",
   "metadata": {},
   "source": [
    "We can see from the above, first of all, that the date ranges overlap, but that they aren't perfectly overlapping. We'd like to work with data from a common date range from both datasets (and ideally a smaller sample, to start with!) so below we'll ask you to truncate the data.  Before we get there, though, let's try to understand the weather dataset a bit more.\n",
    "\n",
    "#### 1.4.2 Understanding the weather data\n",
    "\n",
    "We can take a quick look at the weather data, since we haven't had the chance to look at that before. Call `describe` to take a look at the overall statistics."
   ]
  },
  {
   "cell_type": "code",
   "execution_count": 4,
   "metadata": {},
   "outputs": [],
   "source": [
    "# YOUR CODE HERE"
   ]
  },
  {
   "cell_type": "markdown",
   "metadata": {},
   "source": [
    "**Number of readings** \n",
    "\n",
    "The first thing you should note is that there are two years of data, but there are different numbers of readings for each type of weather measurement. Based on the summary statistics above, which variable would you suspect reflects one reading per day? Write your answer below:"
   ]
  },
  {
   "cell_type": "markdown",
   "metadata": {},
   "source": [
    "_Type your answer in this cell._"
   ]
  },
  {
   "cell_type": "markdown",
   "metadata": {},
   "source": [
    "You should also immediately see that many of these columns have more than one measurement per day. Try to find out the reason for this. Some of the exercises below walk you through this exploration.\n",
    "\n",
    "**How many unique weather stations are there?**"
   ]
  },
  {
   "cell_type": "code",
   "execution_count": 5,
   "metadata": {},
   "outputs": [],
   "source": [
    "# YOUR CODE HERE"
   ]
  },
  {
   "cell_type": "markdown",
   "metadata": {},
   "source": [
    "## 2. Exploring the Data Visually"
   ]
  },
  {
   "cell_type": "markdown",
   "metadata": {},
   "source": [
    "**How many readings does each weather station have?**\n",
    "\n",
    "Show a plot that has the stations on the x-axis and the number of readings for that station on the y-axis. There are too many stations for a clean x label, so if possible just clean the x-axis up so that there are not a bunch of unreadable names. (We used Seaborn's `lineplot` function which automatically cleans things up, but you are welcome to take a different approach.) Be sure to label your axes."
   ]
  },
  {
   "cell_type": "code",
   "execution_count": 6,
   "metadata": {},
   "outputs": [],
   "source": [
    "# YOUR CODE HERE"
   ]
  },
  {
   "cell_type": "markdown",
   "metadata": {},
   "source": [
    "**What is the maximum number of readings that any station has?**\n",
    "\n",
    "Note that this number should make sense, as a sanity check."
   ]
  },
  {
   "cell_type": "code",
   "execution_count": 7,
   "metadata": {},
   "outputs": [],
   "source": [
    "# YOUR CODE HERE"
   ]
  },
  {
   "cell_type": "markdown",
   "metadata": {},
   "source": [
    "**Which stations have the maximum number of readings?**\n",
    "\n",
    "Show your answer in a data frame. Hint: There are 12."
   ]
  },
  {
   "cell_type": "code",
   "execution_count": 8,
   "metadata": {},
   "outputs": [],
   "source": [
    "# YOUR CODE HERE"
   ]
  },
  {
   "cell_type": "markdown",
   "metadata": {},
   "source": [
    "## 3. Preparing the Datasets\n",
    "\n",
    "### 3.1 Preparing the Weather Data\n",
    "\n",
    "#### 3.1.1 Selecting the appropriate fields\n",
    "\n",
    "**Build a data frame that contains (1) the date (2) the low temperature and (3) the high temperature for the Chicago Midway Airport station. Print the first few rows of the data frame.**"
   ]
  },
  {
   "cell_type": "code",
   "execution_count": 9,
   "metadata": {},
   "outputs": [],
   "source": [
    "# YOUR CODE HERE"
   ]
  },
  {
   "cell_type": "markdown",
   "metadata": {},
   "source": [
    "**Plot the daily high and low temperature for Midway Airport for the duration of the dataset.**\n",
    "\n",
    "Does this match your expectations for what the plot should look like?"
   ]
  },
  {
   "cell_type": "code",
   "execution_count": 10,
   "metadata": {},
   "outputs": [],
   "source": [
    "# YOUR CODE HERE"
   ]
  },
  {
   "cell_type": "markdown",
   "metadata": {},
   "source": [
    "**Restricting to 2018 data**\n",
    "\n",
    "You can see from the above that we have weather data through 2019, but we want to work with 2018 only. Truncate the dataset so that it only includes temperatures from 2018."
   ]
  },
  {
   "cell_type": "code",
   "execution_count": 11,
   "metadata": {},
   "outputs": [],
   "source": [
    "# YOUR CODE HERE"
   ]
  },
  {
   "cell_type": "markdown",
   "metadata": {},
   "source": [
    "**Check your work**\n",
    "\n",
    "Now check the shape of your dataset.  You should have a $365x3$ matrix (date, low, high), for each date in 2018."
   ]
  },
  {
   "cell_type": "code",
   "execution_count": 12,
   "metadata": {},
   "outputs": [],
   "source": [
    "# YOUR CODE HERE"
   ]
  },
  {
   "cell_type": "markdown",
   "metadata": {},
   "source": [
    "### 3.3 Preparing the Divvy Data\n",
    "\n",
    "Below will provide some experience with plotting rides over time.\n",
    "\n",
    "#### 3.3.1 Selecting the appropriate rows and columns\n",
    "\n",
    "The Divvy data spans a longer timeframe than the weather data, and so we would like to match these up to the appropriate dates. Also note that the `START_TIME` column is more granular than we need (i.e. we are only concerned with date when merging with the weather data). Group these data so that each entry in the Divvy data corresponds to a single date. \n",
    "\n",
    "Depending on how you performed the last lab, you may or may not be able to re-use some code from last week. Regardless, the `groupby` function should come in handy.\n",
    "\n",
    "**Truncate the data by date**\n",
    "\n",
    "The truncation of the Divvy data is not perfect because it was done by searching and selecting on the CSV. Fix the truncation so that only rides starting in 2018 are included. "
   ]
  },
  {
   "cell_type": "code",
   "execution_count": 13,
   "metadata": {},
   "outputs": [],
   "source": [
    "# YOUR CODE HERE"
   ]
  },
  {
   "cell_type": "markdown",
   "metadata": {},
   "source": [
    "#### 3.3.2 Grouping by Date"
   ]
  },
  {
   "cell_type": "code",
   "execution_count": 14,
   "metadata": {},
   "outputs": [],
   "source": [
    "# YOUR CODE HERE"
   ]
  },
  {
   "cell_type": "markdown",
   "metadata": {},
   "source": [
    "**Group the data by date to get number of rides**\n",
    "\n",
    "Now group the data by date so that we can align it with the weather data. Check the shape of your dataset. It should be $365x2$ (one total ride count per day)."
   ]
  },
  {
   "cell_type": "code",
   "execution_count": 15,
   "metadata": {},
   "outputs": [],
   "source": [
    "# YOUR CODE HERE"
   ]
  },
  {
   "cell_type": "markdown",
   "metadata": {},
   "source": [
    "Which date in 2018 had the most number of rides?"
   ]
  },
  {
   "cell_type": "code",
   "execution_count": 16,
   "metadata": {},
   "outputs": [],
   "source": [
    "# YOUR CODE HERE"
   ]
  },
  {
   "cell_type": "markdown",
   "metadata": {},
   "source": [
    "**Group the data by date to get total riding time by date**\n",
    "\n",
    "Now group the data by date so that we can align the total ride duration with the weather data. Check the shape of your dataset. It should be $365x2$ (one total duration of rides per day)."
   ]
  },
  {
   "cell_type": "code",
   "execution_count": 17,
   "metadata": {},
   "outputs": [],
   "source": [
    "# YOUR CODE HERE"
   ]
  },
  {
   "cell_type": "markdown",
   "metadata": {},
   "source": [
    "Which date in 2018 had the most riding time?"
   ]
  },
  {
   "cell_type": "code",
   "execution_count": 18,
   "metadata": {},
   "outputs": [],
   "source": [
    "# YOUR CODE HERE"
   ]
  },
  {
   "cell_type": "markdown",
   "metadata": {},
   "source": [
    "#### 3.3.3 Visualizing the Temporal Data \n",
    "As a sanity check that the Divvy data looks good and that there's a linear relationship between the datasets, let's plot the trips and duration by day (as we did last week)."
   ]
  },
  {
   "cell_type": "code",
   "execution_count": 19,
   "metadata": {},
   "outputs": [],
   "source": [
    "# YOUR CODE HERE"
   ]
  },
  {
   "cell_type": "markdown",
   "metadata": {},
   "source": [
    "### 3.3.4 Visualizing Relationships\n",
    "\n",
    "We'll now look at a scatterplot of each of these against weather to explore the linear relationship between temperature and ride duration and number of rides.\n",
    "\n",
    "**Join your data into a single dataframe.**\n",
    "\n",
    "You may find it easy/useful to create a single dataframe with all of the data using the `merge` function."
   ]
  },
  {
   "cell_type": "code",
   "execution_count": 20,
   "metadata": {},
   "outputs": [],
   "source": [
    "# YOUR CODE HERE"
   ]
  },
  {
   "cell_type": "markdown",
   "metadata": {},
   "source": [
    "**Plot the scatterplots with the temperature and ride relationshps**\n",
    "\n",
    "Provide four scatterplots:\n",
    "1. Ride count vs. low temperature\n",
    "2. Ride count vs. high temperature\n",
    "3. Ride duration vs. low temperature\n",
    "4. Ride duration vs. high temperature\n"
   ]
  },
  {
   "cell_type": "code",
   "execution_count": 21,
   "metadata": {},
   "outputs": [],
   "source": [
    "# YOUR CODE HERE"
   ]
  },
  {
   "cell_type": "markdown",
   "metadata": {},
   "source": [
    "## 4. Linear Regression\n",
    "\n",
    "At last, we are ready to apply linear regression to our data!  Note that it took a **long** time to get to this stage. This is pretty much normal for real-world data science applications: You will spend a lot of time cleaning your data before you are ready to get to the machine learning/prediction.\n",
    "\n",
    "### 4.1. Prepare Training and Test Sets\n",
    "\n",
    "Although our data is in the right format, don't forget that you will want to normalize the values in the dataset before applying linear regression.\n",
    "\n",
    "Normalize all of the temperature columns in the dataset to have zero mean and standard deviation of 1. Remember to normalize against the mean and standard deviation of the training sets only, as described [here](https://sebastianraschka.com/faq/docs/scale-training-test.html)."
   ]
  },
  {
   "cell_type": "markdown",
   "metadata": {},
   "source": [
    "### 4.1.1 Split into training and testing\n",
    "\n",
    "Hold out 20% of the dataset for testing. Your test set should be randomly sampled. Be sure to use a random seed.\n",
    "\n",
    "Hint: `scikit-learn` has useful functions for doing this for you."
   ]
  },
  {
   "cell_type": "code",
   "execution_count": 22,
   "metadata": {},
   "outputs": [],
   "source": [
    "# YOUR CODE HERE"
   ]
  },
  {
   "cell_type": "markdown",
   "metadata": {},
   "source": [
    "### 4.1.2 Normalize the features\n",
    "\n",
    "Normalize the temperatures against the mean and standard deviation from the training set."
   ]
  },
  {
   "cell_type": "code",
   "execution_count": 23,
   "metadata": {},
   "outputs": [],
   "source": [
    "# YOUR CODE HERE"
   ]
  },
  {
   "cell_type": "markdown",
   "metadata": {},
   "source": [
    "### 4.2 Apply Linear Regression to Ride Counts\n",
    "\n",
    "Now we're ready to apply linear regression to the datasets! The ride count target `count` appears to have more of a linear relationship with minimum and maximum temperatures. Try those first to see which is the best predictor of `count`.\n",
    "\n",
    "#### 4.2.1 Single-Variable Linear Regression\n",
    "\n",
    "First try each linear regression separately using `scikit-learn`'s `LinearRegression`.  Report the Mean Absolute Error (MAE), Mean Squared Error (MSE) and $R^2$ for each instance.\n",
    "\n",
    "##### 4.2.1.1 Low Temperature\n",
    "\n",
    "**Compute the Linear Regression**\n",
    "\n",
    "Fit a linear regression model for `count` against daily low temperatures."
   ]
  },
  {
   "cell_type": "code",
   "execution_count": 24,
   "metadata": {},
   "outputs": [],
   "source": [
    "# YOUR CODE HERE"
   ]
  },
  {
   "cell_type": "markdown",
   "metadata": {},
   "source": [
    "**Plot the Best Fit Line Against the Complete Set of Points**\n",
    "\n",
    "Plot minimum temperature against the number of rides in the original units (NOT the normalized units used as features when training the model) for the complete set of 365 points. Add the line of best fit from the model, and be sure to label your axes."
   ]
  },
  {
   "cell_type": "code",
   "execution_count": 25,
   "metadata": {},
   "outputs": [],
   "source": [
    "# YOUR CODE HERE"
   ]
  },
  {
   "cell_type": "markdown",
   "metadata": {},
   "source": [
    "**Compute the Error**\n",
    "\n",
    "Report the Mean Absolute Error (MAE), Mean Squared Error (MSE) and $R^2$ of this model on the testing set. "
   ]
  },
  {
   "cell_type": "code",
   "execution_count": 26,
   "metadata": {},
   "outputs": [],
   "source": [
    "# YOUR CODE HERE"
   ]
  },
  {
   "cell_type": "markdown",
   "metadata": {},
   "source": [
    "##### 4.2.1.2 High Temperature\n",
    "\n",
    "**Compute the Linear Regression**\n",
    "\n",
    "As above, fit a linear regression model for `count` against daily high temperatures."
   ]
  },
  {
   "cell_type": "code",
   "execution_count": 27,
   "metadata": {},
   "outputs": [],
   "source": [
    "# YOUR CODE HERE"
   ]
  },
  {
   "cell_type": "markdown",
   "metadata": {},
   "source": [
    "**Plot the Best Fit Line Against the Complete Set of Points**\n",
    "\n",
    "As done above, plot maximum temperature against the number of rides in the original units for the complete set of points. Add the line of best fit from the model, and be sure to label your axes."
   ]
  },
  {
   "cell_type": "code",
   "execution_count": 28,
   "metadata": {},
   "outputs": [],
   "source": [
    "# YOUR CODE HERE"
   ]
  },
  {
   "cell_type": "markdown",
   "metadata": {},
   "source": [
    "**Compute the Error**\n",
    "\n",
    "Report the Mean Absolute Error (MAE), Mean Squared Error (MSE) and $R^2$ of this model on the testing set. "
   ]
  },
  {
   "cell_type": "code",
   "execution_count": 29,
   "metadata": {},
   "outputs": [],
   "source": [
    "# YOUR CODE HERE"
   ]
  },
  {
   "cell_type": "markdown",
   "metadata": {},
   "source": [
    "**Interpret your results**\n",
    "\n",
    "Which variable (between daily minimum or maximum temperature) is a better predictor of ride count? Why?"
   ]
  },
  {
   "cell_type": "markdown",
   "metadata": {},
   "source": [
    "_Type your answer here._"
   ]
  },
  {
   "cell_type": "markdown",
   "metadata": {},
   "source": [
    "### 4.3 Multi-Variable Linear Regression\n",
    "\n",
    "Now try a multiple-variable regression with both low and high temperature. Plot your results and report the error.\n",
    "\n",
    "How does it perform compared to the single-variable methods above?  Why?"
   ]
  },
  {
   "cell_type": "code",
   "execution_count": 30,
   "metadata": {},
   "outputs": [],
   "source": [
    "# YOUR CODE HERE"
   ]
  },
  {
   "cell_type": "markdown",
   "metadata": {},
   "source": [
    "**Incorporating more weather data**\n",
    "\n",
    "Include daily precipitation and snowfall from the NOAA data in your multi-variable regression. Remember to normalize the new variables. \n",
    "\n",
    "Of the four variables now in your model, which is the best predictor of ride count? Why?"
   ]
  },
  {
   "cell_type": "code",
   "execution_count": 31,
   "metadata": {},
   "outputs": [],
   "source": [
    "# YOUR CODE HERE"
   ]
  },
  {
   "cell_type": "markdown",
   "metadata": {},
   "source": [
    "### 4.4 Polynomial Transformations of Predictors\n",
    "\n",
    "Look back at your scatterplot of ride duration vs. daily high/low temperatures. The relationship between temperature and ride duration appears to better fit a polynomial (rather than a linear) function. \n",
    "\n",
    "First fit a linear regression predicting `duration` using the two features of high and low temperatures. Then, apply a polynomial transformation to these predictors (e.g. square them) to see if this yields a better fit. Explain your results."
   ]
  },
  {
   "cell_type": "code",
   "execution_count": 32,
   "metadata": {
    "scrolled": true
   },
   "outputs": [],
   "source": [
    "# YOUR CODE HERE"
   ]
  },
  {
   "cell_type": "markdown",
   "metadata": {},
   "source": [
    "### 4.5 Regularization\n",
    "\n",
    "We will cover the topic of regularization in class next week. For now, try out the `Ridge` and `Lasso` linear models in place of `LinearRegression`. In particular, explore how different values of the `alpha` parameter affect performance. (Hint: the `scikit-learn` documentation for [Ridge](https://scikit-learn.org/stable/modules/generated/sklearn.linear_model.Ridge.html) and [Lasso](https://scikit-learn.org/stable/modules/generated/sklearn.linear_model.Lasso.html) will be helpful.) \n",
    "\n",
    "Comment on your results from changing this parameter when fitting models predicting `duration` using the four features used above (minimum temperature, maximum temperature, precipitation, and snowfall). How did changing the regularization parameter affect performance? Note that this question is intentionally meant to be open-ended to give you a chance to experiment with these parameters. "
   ]
  },
  {
   "cell_type": "code",
   "execution_count": 33,
   "metadata": {
    "scrolled": true
   },
   "outputs": [],
   "source": [
    "# YOUR CODE HERE"
   ]
  }
 ],
 "metadata": {
  "kernelspec": {
   "display_name": "Python 3",
   "language": "python",
   "name": "python3"
  },
  "language_info": {
   "codemirror_mode": {
    "name": "ipython",
    "version": 3
   },
   "file_extension": ".py",
   "mimetype": "text/x-python",
   "name": "python",
   "nbconvert_exporter": "python",
   "pygments_lexer": "ipython3",
   "version": "3.7.3"
  }
 },
 "nbformat": 4,
 "nbformat_minor": 2
}
