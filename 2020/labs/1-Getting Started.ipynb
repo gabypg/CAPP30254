{
 "cells": [
  {
   "cell_type": "markdown",
   "metadata": {},
   "source": [
    "# Lab 1: Basic Data Analysis\n",
    "\n",
    "The purpose of this lab is to get you started with running Jupyter notebooks, and getting you familiar with loading and analyzing data in a notebook. You could use the notebooks from the lectures as reference points, as well.\n",
    "\n",
    "## Learning Objectives\n",
    "\n",
    "The purpose of this lab is to give you a gentle introduction to Python notebooks, as well as an introduction to loading a dataset into a notebook and performing some basic queries with the notebook.\n",
    "\n",
    "After completing this lab, you should be able to: \n",
    "\n",
    "1. Start a Juypter notebook and write/execute basic Python code in the notebook.\n",
    "2. Understand basic Python operations, including how to write a function, and how to load data.\n",
    "3. Understand the purpose of Pandas and plotting libraries (e.g., matplotlib) and gain some initial, basic experience with them."
   ]
  },
  {
   "cell_type": "markdown",
   "metadata": {},
   "source": [
    "## 1. Python and Notebooks: Hello World\n",
    "\n",
    "If you've gotten this far, hopefully you have the notebook running, but you should have started this from the command-line (using the instructions on the course page), or via Anaconda.\n",
    "\n",
    "Elements in a notebook are divided into cells, which might be markdown (such as this cell), which contains text, or code.  The cell below contains code. You can execute a cell by clicking on the cell and typing \"Shift + Enter\". Try your first \"Hello World\" Python program below."
   ]
  },
  {
   "cell_type": "code",
   "execution_count": 1,
   "metadata": {},
   "outputs": [],
   "source": [
    "# YOUR CODE HERE"
   ]
  },
  {
   "cell_type": "markdown",
   "metadata": {},
   "source": [
    "You can also define and call functions in cells. In the cell below, write a simple function that takes a string as an argument and prints that string as an output."
   ]
  },
  {
   "cell_type": "code",
   "execution_count": 2,
   "metadata": {},
   "outputs": [],
   "source": [
    "# YOUR CODE HERE"
   ]
  },
  {
   "cell_type": "markdown",
   "metadata": {},
   "source": [
    "## 2. Basic Operations in Python: Loading Data\n",
    "\n",
    "You should famliarize yourself with loading data into a Python notebook in various formats.  Some of the notebooks we have provided have some examples for loading files.\n",
    "\n",
    "Much of the data we will use is in formats such as comma-separated value (CSV), but you may also find the need to load data that is in other formats (e.g., JSON, SQL databases). The Python Pandas library provides easy ways to load these types of files into Pandas \"data frames\".\n",
    "\n",
    "### 2.1 Loading a CSV File into Pandas\n",
    "\n",
    "Load the [Divvy Trip data](https://data.cityofchicago.org/Transportation/Divvy-Trips/fg6s-gzvg) from the City of Chicago data portal into a Pandas data frame.\n",
    "\n",
    "**Note**: The file is large (5 GB), and so this will possibly take a fair bit of time to download/load. Maybe 5-10 minutes. Be patient! If you have problems, the course staff has a smaller, truncated version of the file to work with; let us know."
   ]
  },
  {
   "cell_type": "code",
   "execution_count": 3,
   "metadata": {},
   "outputs": [],
   "source": [
    "# YOUR CODE HERE"
   ]
  },
  {
   "cell_type": "markdown",
   "metadata": {},
   "source": [
    "### 2.2 Basic Data Analysis in Pandas \n",
    "\n",
    "Now that you have the data loaded into a basic dataframe, you can ask some questions about the data, using Pandas. Each of these questions is intended to give you practice manipulating and analyzing a data frame."
   ]
  },
  {
   "cell_type": "markdown",
   "metadata": {},
   "source": [
    "#### 2.2.1 What is the number of rows in the data frame? \n",
    "\n",
    "This question is intended to help you understand one of the most basic questions about your data: How many data points does it have?\n",
    "\n",
    "Call a single Pandas dataframe function to figure out how large this dataset is. Your answer should produce a single integer."
   ]
  },
  {
   "cell_type": "code",
   "execution_count": 4,
   "metadata": {},
   "outputs": [],
   "source": [
    "# YOUR CODE HERE"
   ]
  },
  {
   "cell_type": "markdown",
   "metadata": {},
   "source": [
    "#### 2.2.2 What are the start and end dates of the rides in the data set?\n",
    "\n",
    "It is typically important to understand basic information about the data, such as when it starts and ends. \n",
    "\n",
    "This is also an example of _looking for outliers_. The Divvy program started in Chicago somewhat recently (find out when!) and so if the earliest ride in the dataset predates that, you know you the dataset has a problem! Performing these kinds of basic sanity checks on the data is critical and something you should always be doing."
   ]
  },
  {
   "cell_type": "code",
   "execution_count": 5,
   "metadata": {},
   "outputs": [],
   "source": [
    "# YOUR CODE HERE"
   ]
  },
  {
   "cell_type": "markdown",
   "metadata": {},
   "source": [
    "#### 2.2.3 What is the mean duration of all trips?\n",
    "\n",
    "This question is intended to give you exposure to (1) selecting a column from a Pandas dataframe; (2) applying an aggregate function (e.g., a mean) to a column of the dataframe. Of course, it is possible to apply other aggregate functions, and you should familiarize yourself with those."
   ]
  },
  {
   "cell_type": "code",
   "execution_count": 6,
   "metadata": {},
   "outputs": [],
   "source": [
    "# YOUR CODE HERE"
   ]
  },
  {
   "cell_type": "markdown",
   "metadata": {},
   "source": [
    "#### 2.2.4 Do men or women take longer trips on average?\n",
    "\n",
    "The goal of this question is to give you experience with the groupby function in Pandas, as well as how to combine groupby with an aggregation operation. There are a couple of ways to answer this question, actually; you could also do it with a conditional select. Try it both ways!\n",
    "\n",
    "**Using Groupby**"
   ]
  },
  {
   "cell_type": "code",
   "execution_count": 7,
   "metadata": {},
   "outputs": [],
   "source": [
    "# YOUR CODE HERE"
   ]
  },
  {
   "cell_type": "markdown",
   "metadata": {},
   "source": [
    "**Using Conditional Selection**"
   ]
  },
  {
   "cell_type": "code",
   "execution_count": 8,
   "metadata": {},
   "outputs": [],
   "source": [
    "# YOUR CODE HERE"
   ]
  },
  {
   "cell_type": "markdown",
   "metadata": {},
   "source": [
    "#### 2.2.5 Sanity Checks\n",
    "\n",
    "We just performed the above operations without checking how many rides were taken by males and females.  Quickly do that below.  Also compute the sum of male and female rides."
   ]
  },
  {
   "cell_type": "code",
   "execution_count": 9,
   "metadata": {},
   "outputs": [],
   "source": [
    "# YOUR CODE HERE"
   ]
  },
  {
   "cell_type": "markdown",
   "metadata": {},
   "source": [
    "Compare the number you just computed to the total number of data points.  Do they match? Why or why not?"
   ]
  },
  {
   "cell_type": "code",
   "execution_count": null,
   "metadata": {},
   "outputs": [],
   "source": [
    "# ENTER YOUR ANSWER AS A COMMENT"
   ]
  },
  {
   "cell_type": "markdown",
   "metadata": {},
   "source": [
    "#### 2.2.6 Other checks\n",
    "\n",
    "We know anecdotally that the birth year column (`BIRTH YEAR`) has several missing values. How many rows exactly are missing a birth year? "
   ]
  },
  {
   "cell_type": "code",
   "execution_count": 10,
   "metadata": {},
   "outputs": [],
   "source": [
    "# YOUR CODE HERE"
   ]
  },
  {
   "cell_type": "markdown",
   "metadata": {},
   "source": [
    "What proportion of rows in the dataset have a missing birth year?"
   ]
  },
  {
   "cell_type": "code",
   "execution_count": 11,
   "metadata": {},
   "outputs": [],
   "source": [
    "# YOUR CODE HERE"
   ]
  },
  {
   "cell_type": "markdown",
   "metadata": {},
   "source": [
    "## 3. Basic Plotting and Visualization"
   ]
  },
  {
   "cell_type": "markdown",
   "metadata": {},
   "source": [
    "The goal of this part of the assignment is to give you basic experience with plotting data from datasets. You can use the same types of operations as were demonstrated in lecture to perform this part of the lab."
   ]
  },
  {
   "cell_type": "markdown",
   "metadata": {},
   "source": [
    "### 3.1 Plotting Ride Volumes Over Time\n",
    "\n",
    "Below will provide some experience with plotting rides over time.\n",
    "\n",
    "#### 3.1.1 Setting an index in the data frame"
   ]
  },
  {
   "cell_type": "markdown",
   "metadata": {},
   "source": [
    "Recall the first steps include importing plotting libraries and setting one of the columns in the data frame to be the index."
   ]
  },
  {
   "cell_type": "code",
   "execution_count": 12,
   "metadata": {},
   "outputs": [],
   "source": [
    "# YOUR CODE HERE"
   ]
  },
  {
   "cell_type": "markdown",
   "metadata": {},
   "source": [
    "#### 3.1.2 Plotting the total trip duration by day\n",
    "\n",
    "Plot the total trip duration by day. While there are a number of ways to perform this operation, you may find the `resample` function in Pandas useful."
   ]
  },
  {
   "cell_type": "code",
   "execution_count": 13,
   "metadata": {},
   "outputs": [],
   "source": [
    "# YOUR CODE HERE"
   ]
  },
  {
   "cell_type": "markdown",
   "metadata": {},
   "source": [
    "#### 3.1.3 Plot the total number of trips by day\n",
    "\n",
    "This calcuation is a little bit trickier, since there's no number in the data frame to plot: each row is what you're trying to count. You may find `resample` useful, but you may have to add some data to the data frame to make it work. group by and count may also work."
   ]
  },
  {
   "cell_type": "code",
   "execution_count": 14,
   "metadata": {},
   "outputs": [],
   "source": [
    "# YOUR CODE HERE"
   ]
  },
  {
   "cell_type": "markdown",
   "metadata": {},
   "source": [
    "### 3.2 Data Exploration on Your Own\n",
    "\n",
    "Pick a question or hypothesis, justify **why** you picked that question (i.e., why it might be an interesting question to some audience, such as city officials), and present a simple analysis. \n",
    "\n",
    "Optionally, you may pick a related dataset from the Chicago data portal and join it onto the Divvy trips data. As above, be sure to justify your choice and explain what analysis you can now perform (as well as the analysis itself).\n",
    "\n",
    "Some example questions might include:\n",
    "* Adjusting for seasons, is ridership increasing? (You could use conditional selection on dates or months.)\n",
    "* Are rides getting longer? (on average? max?)\n",
    "* Do ride characteristics differ by user type?\n",
    "* Are certain trip routes (e.g. pairs of start and end stations) more popular than others? Does this change during peak and non-peak \"rush\" hours (defined loosely)?\n",
    "* Which neighborhoods are seeing the most ridership? (More difficult! Requires spatial analysis!)"
   ]
  },
  {
   "cell_type": "code",
   "execution_count": 15,
   "metadata": {},
   "outputs": [],
   "source": [
    "# YOUR CODE HERE"
   ]
  }
 ],
 "metadata": {
  "kernelspec": {
   "display_name": "Python 3",
   "language": "python",
   "name": "python3"
  },
  "language_info": {
   "codemirror_mode": {
    "name": "ipython",
    "version": 3
   },
   "file_extension": ".py",
   "mimetype": "text/x-python",
   "name": "python",
   "nbconvert_exporter": "python",
   "pygments_lexer": "ipython3",
   "version": "3.7.1"
  }
 },
 "nbformat": 4,
 "nbformat_minor": 2
}
