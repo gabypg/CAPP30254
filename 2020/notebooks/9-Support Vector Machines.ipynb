{
 "cells": [
  {
   "cell_type": "markdown",
   "metadata": {},
   "source": [
    "# Support Vector Machines\n",
    "\n",
    "In this lab, we'll perform a brief exploration of support vector machines (SVMs), using some of the City of Chicago data that we've seen in previous labs. Note that SVMs refer to a set of classifiers that include:\n",
    "* Maximum Margin Separator\n",
    "* Support Vector Classifier\n",
    "* Suppor Vector Machine\n",
    "\n",
    "The first two types of classifiers are linear classifiers, much like the ones we've seen in previous labs. The support vector machine classifier allows for non-linear decision boundaries. \n",
    "\n",
    "We'll first explore a linear support vector classifier on the data, and then aim to improve on that classifier by allowing for non-linear decision boundaries."
   ]
  },
  {
   "cell_type": "code",
   "execution_count": 1,
   "metadata": {},
   "outputs": [],
   "source": [
    "from sklearn.svm import SVC, LinearSVC\n",
    "from sklearn.preprocessing import StandardScaler\n",
    "from sklearn.preprocessing import OneHotEncoder, LabelEncoder, LabelBinarizer\n",
    "from sklearn.pipeline import Pipeline\n",
    "from sklearn.model_selection import KFold, cross_val_score\n",
    "\n",
    "import numpy as np\n",
    "import pandas as pd\n",
    "\n",
    "import matplotlib.pyplot as plt\n",
    "from matplotlib.colors import ListedColormap\n",
    "%matplotlib inline\n",
    "\n",
    "import warnings\n",
    "warnings.simplefilter(action='ignore', category=FutureWarning)"
   ]
  },
  {
   "cell_type": "markdown",
   "metadata": {},
   "source": [
    "## Import the Chicago Crime Data\n",
    "\n",
    "Let's revisit the crime data that we've been exploring in some of our previous labs, and clean it up as before.\n"
   ]
  },
  {
   "cell_type": "code",
   "execution_count": 2,
   "metadata": {},
   "outputs": [
    {
     "data": {
      "text/html": [
       "<div>\n",
       "<style scoped>\n",
       "    .dataframe tbody tr th:only-of-type {\n",
       "        vertical-align: middle;\n",
       "    }\n",
       "\n",
       "    .dataframe tbody tr th {\n",
       "        vertical-align: top;\n",
       "    }\n",
       "\n",
       "    .dataframe thead th {\n",
       "        text-align: right;\n",
       "    }\n",
       "</style>\n",
       "<table border=\"1\" class=\"dataframe\">\n",
       "  <thead>\n",
       "    <tr style=\"text-align: right;\">\n",
       "      <th></th>\n",
       "      <th>ID</th>\n",
       "      <th>Case Number</th>\n",
       "      <th>Date</th>\n",
       "      <th>Block</th>\n",
       "      <th>IUCR</th>\n",
       "      <th>Primary Type</th>\n",
       "      <th>Description</th>\n",
       "      <th>Location Description</th>\n",
       "      <th>Arrest</th>\n",
       "      <th>Domestic</th>\n",
       "      <th>...</th>\n",
       "      <th>Ward</th>\n",
       "      <th>Community Area</th>\n",
       "      <th>FBI Code</th>\n",
       "      <th>X Coordinate</th>\n",
       "      <th>Y Coordinate</th>\n",
       "      <th>Year</th>\n",
       "      <th>Updated On</th>\n",
       "      <th>Latitude</th>\n",
       "      <th>Longitude</th>\n",
       "      <th>Location</th>\n",
       "    </tr>\n",
       "  </thead>\n",
       "  <tbody>\n",
       "    <tr>\n",
       "      <th>62365</th>\n",
       "      <td>11851289</td>\n",
       "      <td>JC461037</td>\n",
       "      <td>10/05/2019 01:00:00 AM</td>\n",
       "      <td>038XX W MADISON ST</td>\n",
       "      <td>0281</td>\n",
       "      <td>CRIM SEXUAL ASSAULT</td>\n",
       "      <td>NON-AGGRAVATED</td>\n",
       "      <td>APARTMENT</td>\n",
       "      <td>False</td>\n",
       "      <td>True</td>\n",
       "      <td>...</td>\n",
       "      <td>28.0</td>\n",
       "      <td>26.0</td>\n",
       "      <td>02</td>\n",
       "      <td>1150898.0</td>\n",
       "      <td>1899740.0</td>\n",
       "      <td>2019</td>\n",
       "      <td>10/12/2019 04:05:42 PM</td>\n",
       "      <td>41.880779</td>\n",
       "      <td>-87.721377</td>\n",
       "      <td>(41.880779076, -87.721377025)</td>\n",
       "    </tr>\n",
       "  </tbody>\n",
       "</table>\n",
       "<p>1 rows × 22 columns</p>\n",
       "</div>"
      ],
      "text/plain": [
       "             ID Case Number                    Date               Block  IUCR  \\\n",
       "62365  11851289    JC461037  10/05/2019 01:00:00 AM  038XX W MADISON ST  0281   \n",
       "\n",
       "              Primary Type     Description Location Description  Arrest  \\\n",
       "62365  CRIM SEXUAL ASSAULT  NON-AGGRAVATED            APARTMENT   False   \n",
       "\n",
       "       Domestic  ...  Ward  Community Area  FBI Code  X Coordinate  \\\n",
       "62365      True  ...  28.0            26.0        02     1150898.0   \n",
       "\n",
       "      Y Coordinate  Year              Updated On   Latitude  Longitude  \\\n",
       "62365    1899740.0  2019  10/12/2019 04:05:42 PM  41.880779 -87.721377   \n",
       "\n",
       "                            Location  \n",
       "62365  (41.880779076, -87.721377025)  \n",
       "\n",
       "[1 rows x 22 columns]"
      ]
     },
     "execution_count": 2,
     "metadata": {},
     "output_type": "execute_result"
    }
   ],
   "source": [
    "df = pd.read_csv(\"../data/chicago-crimes-2019.csv.gz\", compression='gzip')\n",
    "df = df.sample(frac=0.02, replace=False, random_state=1)\n",
    "\n",
    "df.head(1)"
   ]
  },
  {
   "cell_type": "markdown",
   "metadata": {},
   "source": [
    "## Transform Features"
   ]
  },
  {
   "cell_type": "code",
   "execution_count": 3,
   "metadata": {},
   "outputs": [
    {
     "name": "stdout",
     "output_type": "stream",
     "text": [
      "Found 0 NaN community area records.\n"
     ]
    }
   ],
   "source": [
    "print(\"Found {} NaN community area records.\".format(df['Community Area'].isna().sum()))\n",
    "\n",
    "# There are 4 records in the dataset with NaN Community Area... might not show up in the sample.\n",
    "df.dropna(inplace=True)\n",
    "df['Community Area'] = df['Community Area'].astype(float)"
   ]
  },
  {
   "cell_type": "markdown",
   "metadata": {},
   "source": [
    "## Support Vector Machines"
   ]
  },
  {
   "cell_type": "markdown",
   "metadata": {},
   "source": [
    "In the lab on logistic regression, we performed a significant amount of feature engineering to try to establish a linear relationship between features and probability of arrest that we could map into a logistic regression classifier. \n",
    "\n",
    "In this lab, we will explore whether the ability of SVMs to capture high-dimensional relationships---as well as non-linear relationships between features and targets---allows us to more accurately predict whether an arrest occurs from the dataset."
   ]
  },
  {
   "cell_type": "code",
   "execution_count": 4,
   "metadata": {},
   "outputs": [
    {
     "data": {
      "text/html": [
       "<div>\n",
       "<style scoped>\n",
       "    .dataframe tbody tr th:only-of-type {\n",
       "        vertical-align: middle;\n",
       "    }\n",
       "\n",
       "    .dataframe tbody tr th {\n",
       "        vertical-align: top;\n",
       "    }\n",
       "\n",
       "    .dataframe thead th {\n",
       "        text-align: right;\n",
       "    }\n",
       "</style>\n",
       "<table border=\"1\" class=\"dataframe\">\n",
       "  <thead>\n",
       "    <tr style=\"text-align: right;\">\n",
       "      <th></th>\n",
       "      <th>Primary Type</th>\n",
       "      <th>Domestic</th>\n",
       "      <th>Community Area</th>\n",
       "      <th>Location Description</th>\n",
       "      <th>Hour</th>\n",
       "    </tr>\n",
       "  </thead>\n",
       "  <tbody>\n",
       "    <tr>\n",
       "      <th>62365</th>\n",
       "      <td>CRIM SEXUAL ASSAULT</td>\n",
       "      <td>True</td>\n",
       "      <td>26.0</td>\n",
       "      <td>APARTMENT</td>\n",
       "      <td>1</td>\n",
       "    </tr>\n",
       "  </tbody>\n",
       "</table>\n",
       "</div>"
      ],
      "text/plain": [
       "              Primary Type  Domestic  Community Area Location Description  \\\n",
       "62365  CRIM SEXUAL ASSAULT      True            26.0            APARTMENT   \n",
       "\n",
       "       Hour  \n",
       "62365     1  "
      ]
     },
     "execution_count": 4,
     "metadata": {},
     "output_type": "execute_result"
    }
   ],
   "source": [
    "target = df['Arrest'].astype(float)\n",
    "df['Hour'] = pd.to_datetime(df['Date']).dt.hour\n",
    "\n",
    "features = df.loc[:,['Primary Type', 'Domestic', 'Community Area','Location Description','Hour']]\n",
    "features2d = df.loc[:,['Community Area', 'Hour']]\n",
    "features.head(1)"
   ]
  },
  {
   "cell_type": "markdown",
   "metadata": {},
   "source": [
    "### Label Encoding\n",
    "\n",
    "Since we have a set of categorical features, we need to take non-numerical values and convert them to numbers using a LabelEncoder.\n",
    "\n",
    "It is possible to call a LabelEncoder for each column so that category names can later be recovered, but for the sake of conciseness, we simply apply the label encoder to all columns using `apply`."
   ]
  },
  {
   "cell_type": "code",
   "execution_count": 5,
   "metadata": {},
   "outputs": [
    {
     "data": {
      "text/html": [
       "<div>\n",
       "<style scoped>\n",
       "    .dataframe tbody tr th:only-of-type {\n",
       "        vertical-align: middle;\n",
       "    }\n",
       "\n",
       "    .dataframe tbody tr th {\n",
       "        vertical-align: top;\n",
       "    }\n",
       "\n",
       "    .dataframe thead th {\n",
       "        text-align: right;\n",
       "    }\n",
       "</style>\n",
       "<table border=\"1\" class=\"dataframe\">\n",
       "  <thead>\n",
       "    <tr style=\"text-align: right;\">\n",
       "      <th></th>\n",
       "      <th>Primary Type</th>\n",
       "      <th>Domestic</th>\n",
       "      <th>Community Area</th>\n",
       "      <th>Location Description</th>\n",
       "      <th>Hour</th>\n",
       "    </tr>\n",
       "  </thead>\n",
       "  <tbody>\n",
       "    <tr>\n",
       "      <th>62365</th>\n",
       "      <td>5</td>\n",
       "      <td>1</td>\n",
       "      <td>25</td>\n",
       "      <td>12</td>\n",
       "      <td>1</td>\n",
       "    </tr>\n",
       "    <tr>\n",
       "      <th>171879</th>\n",
       "      <td>9</td>\n",
       "      <td>0</td>\n",
       "      <td>1</td>\n",
       "      <td>12</td>\n",
       "      <td>15</td>\n",
       "    </tr>\n",
       "    <tr>\n",
       "      <th>145715</th>\n",
       "      <td>28</td>\n",
       "      <td>0</td>\n",
       "      <td>66</td>\n",
       "      <td>79</td>\n",
       "      <td>1</td>\n",
       "    </tr>\n",
       "    <tr>\n",
       "      <th>38006</th>\n",
       "      <td>6</td>\n",
       "      <td>0</td>\n",
       "      <td>48</td>\n",
       "      <td>68</td>\n",
       "      <td>15</td>\n",
       "    </tr>\n",
       "    <tr>\n",
       "      <th>237592</th>\n",
       "      <td>20</td>\n",
       "      <td>0</td>\n",
       "      <td>0</td>\n",
       "      <td>12</td>\n",
       "      <td>3</td>\n",
       "    </tr>\n",
       "    <tr>\n",
       "      <th>149765</th>\n",
       "      <td>27</td>\n",
       "      <td>0</td>\n",
       "      <td>29</td>\n",
       "      <td>82</td>\n",
       "      <td>17</td>\n",
       "    </tr>\n",
       "    <tr>\n",
       "      <th>177946</th>\n",
       "      <td>20</td>\n",
       "      <td>1</td>\n",
       "      <td>39</td>\n",
       "      <td>82</td>\n",
       "      <td>14</td>\n",
       "    </tr>\n",
       "    <tr>\n",
       "      <th>77056</th>\n",
       "      <td>2</td>\n",
       "      <td>0</td>\n",
       "      <td>42</td>\n",
       "      <td>82</td>\n",
       "      <td>21</td>\n",
       "    </tr>\n",
       "    <tr>\n",
       "      <th>23050</th>\n",
       "      <td>27</td>\n",
       "      <td>0</td>\n",
       "      <td>7</td>\n",
       "      <td>48</td>\n",
       "      <td>19</td>\n",
       "    </tr>\n",
       "    <tr>\n",
       "      <th>108987</th>\n",
       "      <td>27</td>\n",
       "      <td>0</td>\n",
       "      <td>40</td>\n",
       "      <td>63</td>\n",
       "      <td>12</td>\n",
       "    </tr>\n",
       "  </tbody>\n",
       "</table>\n",
       "</div>"
      ],
      "text/plain": [
       "        Primary Type  Domestic  Community Area  Location Description  Hour\n",
       "62365              5         1              25                    12     1\n",
       "171879             9         0               1                    12    15\n",
       "145715            28         0              66                    79     1\n",
       "38006              6         0              48                    68    15\n",
       "237592            20         0               0                    12     3\n",
       "149765            27         0              29                    82    17\n",
       "177946            20         1              39                    82    14\n",
       "77056              2         0              42                    82    21\n",
       "23050             27         0               7                    48    19\n",
       "108987            27         0              40                    63    12"
      ]
     },
     "execution_count": 5,
     "metadata": {},
     "output_type": "execute_result"
    }
   ],
   "source": [
    "# Convert Categorical Features to Numerical Values\n",
    "features = features.apply(LabelEncoder().fit_transform)\n",
    "features.head(10)"
   ]
  },
  {
   "cell_type": "markdown",
   "metadata": {},
   "source": [
    "### One Hot Encoding\n",
    "\n",
    "The problem with label encoding is that the SVM might incorrectly infer that there is some ordering associated with the numbers assigned to each category, when in fact no such relationship exists.\n",
    "\n",
    "To handle this effect, we use a technique called \"one hot encoding\", which takes each value that a feature could take and creates a column for that value. If the category takes on that value, then the column is '1', otherwise, the column is zero."
   ]
  },
  {
   "cell_type": "code",
   "execution_count": 6,
   "metadata": {},
   "outputs": [],
   "source": [
    "# Create a Pipeline.\n",
    "# All steps except the last one must call 'fit_transform'\n",
    "# The last step must call 'fit'\n",
    "lsvc = Pipeline([\n",
    "    ('ohe', OneHotEncoder()),\n",
    "    ('svc', LinearSVC(C=1.0,max_iter=100000, class_weight='balanced')),\n",
    "])\n",
    "\n",
    "svc = Pipeline([\n",
    "    ('ohe', OneHotEncoder()),\n",
    "    ('svc', SVC(kernel='rbf', random_state=0, gamma=0.5, C=1.0, class_weight='balanced')),\n",
    "])"
   ]
  },
  {
   "cell_type": "markdown",
   "metadata": {},
   "source": [
    "### Evaluating the Classifier\n",
    "\n",
    "We use 5-fold cross validation to evaluate the classifier accuracy, for a number of classifiers. We start with the linear classifier on two features only, then use the classifier with five features.  Next we try the classifier with the radial basis function."
   ]
  },
  {
   "cell_type": "code",
   "execution_count": 7,
   "metadata": {},
   "outputs": [],
   "source": [
    "# K-Fold Cross Validation\n",
    "k = 5\n",
    "kf = KFold(n_splits=k, shuffle=True, random_state=23)"
   ]
  },
  {
   "cell_type": "markdown",
   "metadata": {},
   "source": [
    "#### Linear Classifier, 2 Features"
   ]
  },
  {
   "cell_type": "code",
   "execution_count": 8,
   "metadata": {},
   "outputs": [
    {
     "data": {
      "text/plain": [
       "0.590215070295017"
      ]
     },
     "execution_count": 8,
     "metadata": {},
     "output_type": "execute_result"
    }
   ],
   "source": [
    "cv_results = cross_val_score(lsvc,\n",
    "                             features2d,\n",
    "                             target,\n",
    "                             cv=kf,\n",
    "                             scoring='accuracy'\n",
    "                            )\n",
    "cv_results.mean()"
   ]
  },
  {
   "cell_type": "markdown",
   "metadata": {},
   "source": [
    "#### Radial Basis Classifier, 2 Features"
   ]
  },
  {
   "cell_type": "code",
   "execution_count": 9,
   "metadata": {},
   "outputs": [
    {
     "data": {
      "text/plain": [
       "0.605997331313787"
      ]
     },
     "execution_count": 9,
     "metadata": {},
     "output_type": "execute_result"
    }
   ],
   "source": [
    "cv_results = cross_val_score(svc,\n",
    "                             features2d,\n",
    "                             target,\n",
    "                             cv=kf,\n",
    "                             scoring='accuracy'\n",
    "                            )\n",
    "cv_results.mean()"
   ]
  },
  {
   "cell_type": "code",
   "execution_count": 10,
   "metadata": {},
   "outputs": [
    {
     "data": {
      "text/plain": [
       "<matplotlib.contour.QuadContourSet at 0x1a268f26d8>"
      ]
     },
     "execution_count": 10,
     "metadata": {},
     "output_type": "execute_result"
    },
    {
     "data": {
      "image/png": "[encoded data removed]",
      "text/plain": [
       "<Figure size 640x480 with 1 Axes>"
      ]
     },
     "metadata": {},
     "output_type": "display_data"
    }
   ],
   "source": [
    "X = features2d.values\n",
    "Y = target.values\n",
    "\n",
    "C = 1  # SVM regularization parameter\n",
    "clf = SVC(kernel = 'rbf',  gamma=0.5, C=C )\n",
    "clf.fit(X, Y)\n",
    "\n",
    "h = 0.5  # step size in the mesh\n",
    "# create a mesh to plot in\n",
    "x_min, x_max = X[:, 0].min() - 1, X[:, 0].max() + 1\n",
    "y_min, y_max = X[:, 1].min() - 1, X[:, 1].max() + 1\n",
    "xx, yy = np.meshgrid(np.arange(x_min, x_max, h),\n",
    "                     np.arange(y_min, y_max, h))\n",
    "\n",
    "\n",
    "# Plot the decision boundary. For that, we will assign a color to each\n",
    "# point in the mesh [x_min, m_max]x[y_min, y_max].\n",
    "Z = clf.predict(np.c_[xx.ravel(), yy.ravel()])\n",
    "\n",
    "# Put the result into a color plot\n",
    "Z = Z.reshape(xx.shape)\n",
    "plt.contour(xx, yy, Z, cmap=plt.cm.Paired)"
   ]
  },
  {
   "cell_type": "markdown",
   "metadata": {},
   "source": [
    "#### Linear Classifier, 5 Features"
   ]
  },
  {
   "cell_type": "code",
   "execution_count": 11,
   "metadata": {},
   "outputs": [
    {
     "data": {
      "text/plain": [
       "0.7879986941279413"
      ]
     },
     "execution_count": 11,
     "metadata": {},
     "output_type": "execute_result"
    }
   ],
   "source": [
    "cv_results = cross_val_score(lsvc,\n",
    "                             features,\n",
    "                             target,\n",
    "                             cv=kf,\n",
    "                             scoring='accuracy'\n",
    "                            )\n",
    "cv_results.mean()"
   ]
  },
  {
   "cell_type": "markdown",
   "metadata": {},
   "source": [
    "#### Radial Basis Classifier, 5 Features"
   ]
  },
  {
   "cell_type": "code",
   "execution_count": 12,
   "metadata": {},
   "outputs": [
    {
     "data": {
      "text/plain": [
       "0.8415819652994868"
      ]
     },
     "execution_count": 12,
     "metadata": {},
     "output_type": "execute_result"
    }
   ],
   "source": [
    "cv_results = cross_val_score(svc,\n",
    "                             features,\n",
    "                             target,\n",
    "                             cv=kf,\n",
    "                             scoring='accuracy'\n",
    "                            )\n",
    "cv_results.mean()"
   ]
  },
  {
   "cell_type": "code",
   "execution_count": null,
   "metadata": {},
   "outputs": [],
   "source": []
  }
 ],
 "metadata": {
  "kernelspec": {
   "display_name": "Python 3",
   "language": "python",
   "name": "python3"
  },
  "language_info": {
   "codemirror_mode": {
    "name": "ipython",
    "version": 3
   },
   "file_extension": ".py",
   "mimetype": "text/x-python",
   "name": "python",
   "nbconvert_exporter": "python",
   "pygments_lexer": "ipython3",
   "version": "3.7.1"
  }
 },
 "nbformat": 4,
 "nbformat_minor": 2
}
