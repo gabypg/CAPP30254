{
 "cells": [
  {
   "cell_type": "code",
   "execution_count": null,
   "metadata": {},
   "outputs": [],
   "source": [
    "import numpy as np\n",
    "import matplotlib.pyplot as plt\n",
    "\n",
    "import pandas as pd\n",
    "\n",
    "from hmmlearn import hmm"
   ]
  },
  {
   "cell_type": "code",
   "execution_count": null,
   "metadata": {},
   "outputs": [],
   "source": [
    "# Prepare parameters for a 4-components HMM\n",
    "# Initial population probability\n",
    "startprob = np.array([0.6, 0.3, 0.1, 0.0])\n",
    "\n",
    "# The transition matrix, note that there are no transitions possible\n",
    "# between component 1 and 3\n",
    "transmat = np.array([[0.7, 0.2, 0.0, 0.1],\n",
    "                     [0.3, 0.5, 0.2, 0.0],\n",
    "                     [0.0, 0.3, 0.5, 0.2],\n",
    "                     [0.2, 0.0, 0.2, 0.6]])\n",
    "\n",
    "# The means of each component\n",
    "means = np.array([[0.0,  0.0],\n",
    "                  [0.0, 11.0],\n",
    "                  [9.0, 10.0],\n",
    "                  [11.0, -1.0]])\n",
    "\n",
    "# The covariance of each component\n",
    "covars = .5 * np.tile(np.identity(2), (4, 1, 1))"
   ]
  },
  {
   "cell_type": "code",
   "execution_count": null,
   "metadata": {},
   "outputs": [],
   "source": [
    "# Build an HMM instance and set parameters\n",
    "model = hmm.GaussianHMM(n_components=4, covariance_type=\"full\")\n",
    "\n",
    "# Instead of fitting it from the data, we directly set the estimated\n",
    "# parameters, the means and covariance of the components\n",
    "model.startprob_ = startprob\n",
    "model.transmat_ = transmat\n",
    "model.means_ = means\n",
    "model.covars_ = covars\n",
    "\n",
    "# Generate samples\n",
    "X, Z = model.sample(500)\n",
    "\n",
    "# Plot the sampled data\n",
    "plt.plot(X[:, 0], X[:, 1], \".-\", label=\"observations\", ms=6,\n",
    "         mfc=\"orange\", alpha=0.7)\n",
    "\n",
    "# Indicate the component numbers\n",
    "for i, m in enumerate(means):\n",
    "    plt.text(m[0], m[1], 'Component %i' % (i + 1),\n",
    "             size=17, horizontalalignment='center',\n",
    "             bbox=dict(alpha=.7, facecolor='w'))\n",
    "plt.legend(loc='best')\n",
    "plt.show()"
   ]
  },
  {
   "cell_type": "markdown",
   "metadata": {},
   "source": [
    "## Hidden Markov Models on Divvy Bike Trips\n",
    "\n",
    "In this lab we will explore how to train a hidden Markov model (HMM) on a temporal sequence. We will use the Divvy bikeshare data, and in particular the total ride duration over time, to train the model, and subsequently use the trained model to generate a sequence based on the transitions."
   ]
  },
  {
   "cell_type": "code",
   "execution_count": 1,
   "metadata": {},
   "outputs": [],
   "source": [
    "import numpy as np\n",
    "import matplotlib.pyplot as plt\n",
    "%matplotlib inline\n",
    "import pandas as pd\n",
    "\n",
    "from hmmlearn import hmm"
   ]
  },
  {
   "cell_type": "markdown",
   "metadata": {},
   "source": [
    "### Load the Data"
   ]
  },
  {
   "cell_type": "code",
   "execution_count": 2,
   "metadata": {},
   "outputs": [
    {
     "data": {
      "text/html": [
       "<div>\n",
       "<style scoped>\n",
       "    .dataframe tbody tr th:only-of-type {\n",
       "        vertical-align: middle;\n",
       "    }\n",
       "\n",
       "    .dataframe tbody tr th {\n",
       "        vertical-align: top;\n",
       "    }\n",
       "\n",
       "    .dataframe thead th {\n",
       "        text-align: right;\n",
       "    }\n",
       "</style>\n",
       "<table border=\"1\" class=\"dataframe\">\n",
       "  <thead>\n",
       "    <tr style=\"text-align: right;\">\n",
       "      <th></th>\n",
       "      <th>TRIP ID</th>\n",
       "      <th>START TIME</th>\n",
       "      <th>STOP TIME</th>\n",
       "      <th>BIKE ID</th>\n",
       "      <th>TRIP DURATION</th>\n",
       "      <th>FROM STATION ID</th>\n",
       "      <th>FROM STATION NAME</th>\n",
       "      <th>TO STATION ID</th>\n",
       "      <th>TO STATION NAME</th>\n",
       "      <th>USER TYPE</th>\n",
       "      <th>GENDER</th>\n",
       "      <th>BIRTH YEAR</th>\n",
       "      <th>FROM LATITUDE</th>\n",
       "      <th>FROM LONGITUDE</th>\n",
       "      <th>FROM LOCATION</th>\n",
       "      <th>TO LATITUDE</th>\n",
       "      <th>TO LONGITUDE</th>\n",
       "      <th>TO LOCATION</th>\n",
       "    </tr>\n",
       "  </thead>\n",
       "  <tbody>\n",
       "    <tr>\n",
       "      <th>0</th>\n",
       "      <td>18511623</td>\n",
       "      <td>05/21/2018 05:07:29 PM</td>\n",
       "      <td>05/21/2018 05:11:48 PM</td>\n",
       "      <td>153</td>\n",
       "      <td>259</td>\n",
       "      <td>51</td>\n",
       "      <td>Clark St &amp; Randolph St</td>\n",
       "      <td>91</td>\n",
       "      <td>Clinton St &amp; Washington Blvd</td>\n",
       "      <td>Subscriber</td>\n",
       "      <td>Male</td>\n",
       "      <td>1982.0</td>\n",
       "      <td>41.884576</td>\n",
       "      <td>-87.631890</td>\n",
       "      <td>POINT (-87.63188991 41.884576228)</td>\n",
       "      <td>41.883380</td>\n",
       "      <td>-87.641170</td>\n",
       "      <td>POINT (-87.64117 41.88338)</td>\n",
       "    </tr>\n",
       "    <tr>\n",
       "      <th>1</th>\n",
       "      <td>18002370</td>\n",
       "      <td>04/01/2018 02:24:43 PM</td>\n",
       "      <td>04/01/2018 02:38:54 PM</td>\n",
       "      <td>3101</td>\n",
       "      <td>851</td>\n",
       "      <td>106</td>\n",
       "      <td>State St &amp; Pearson St</td>\n",
       "      <td>174</td>\n",
       "      <td>Canal St &amp; Madison St</td>\n",
       "      <td>Subscriber</td>\n",
       "      <td>Female</td>\n",
       "      <td>1990.0</td>\n",
       "      <td>41.897448</td>\n",
       "      <td>-87.628722</td>\n",
       "      <td>POINT (-87.628722 41.897448)</td>\n",
       "      <td>41.882091</td>\n",
       "      <td>-87.639833</td>\n",
       "      <td>POINT (-87.639833 41.882091)</td>\n",
       "    </tr>\n",
       "    <tr>\n",
       "      <th>2</th>\n",
       "      <td>18002371</td>\n",
       "      <td>04/01/2018 02:25:30 PM</td>\n",
       "      <td>04/01/2018 02:32:41 PM</td>\n",
       "      <td>5226</td>\n",
       "      <td>431</td>\n",
       "      <td>426</td>\n",
       "      <td>Ellis Ave &amp; 60th St</td>\n",
       "      <td>322</td>\n",
       "      <td>Kimbark Ave &amp; 53rd St</td>\n",
       "      <td>Subscriber</td>\n",
       "      <td>Male</td>\n",
       "      <td>1982.0</td>\n",
       "      <td>41.785097</td>\n",
       "      <td>-87.601073</td>\n",
       "      <td>POINT (-87.6010727606 41.78509714636)</td>\n",
       "      <td>41.799568</td>\n",
       "      <td>-87.594747</td>\n",
       "      <td>POINT (-87.594747 41.799568)</td>\n",
       "    </tr>\n",
       "    <tr>\n",
       "      <th>3</th>\n",
       "      <td>18002372</td>\n",
       "      <td>04/01/2018 02:25:51 PM</td>\n",
       "      <td>04/01/2018 02:42:22 PM</td>\n",
       "      <td>4861</td>\n",
       "      <td>991</td>\n",
       "      <td>110</td>\n",
       "      <td>Dearborn St &amp; Erie St</td>\n",
       "      <td>31</td>\n",
       "      <td>Franklin St &amp; Chicago Ave</td>\n",
       "      <td>Subscriber</td>\n",
       "      <td>Male</td>\n",
       "      <td>1977.0</td>\n",
       "      <td>41.893992</td>\n",
       "      <td>-87.629318</td>\n",
       "      <td>POINT (-87.629318 41.893992)</td>\n",
       "      <td>41.896776</td>\n",
       "      <td>-87.635633</td>\n",
       "      <td>POINT (-87.635633 41.896776)</td>\n",
       "    </tr>\n",
       "    <tr>\n",
       "      <th>4</th>\n",
       "      <td>18002373</td>\n",
       "      <td>04/01/2018 02:25:58 PM</td>\n",
       "      <td>04/01/2018 02:42:23 PM</td>\n",
       "      <td>4706</td>\n",
       "      <td>985</td>\n",
       "      <td>214</td>\n",
       "      <td>Damen Ave &amp; Grand Ave</td>\n",
       "      <td>47</td>\n",
       "      <td>State St &amp; Kinzie St</td>\n",
       "      <td>Subscriber</td>\n",
       "      <td>Male</td>\n",
       "      <td>1984.0</td>\n",
       "      <td>41.891220</td>\n",
       "      <td>-87.676860</td>\n",
       "      <td>POINT (-87.67686 41.89122)</td>\n",
       "      <td>41.889187</td>\n",
       "      <td>-87.627754</td>\n",
       "      <td>POINT (-87.627754 41.889187)</td>\n",
       "    </tr>\n",
       "  </tbody>\n",
       "</table>\n",
       "</div>"
      ],
      "text/plain": [
       "    TRIP ID              START TIME               STOP TIME  BIKE ID  \\\n",
       "0  18511623  05/21/2018 05:07:29 PM  05/21/2018 05:11:48 PM      153   \n",
       "1  18002370  04/01/2018 02:24:43 PM  04/01/2018 02:38:54 PM     3101   \n",
       "2  18002371  04/01/2018 02:25:30 PM  04/01/2018 02:32:41 PM     5226   \n",
       "3  18002372  04/01/2018 02:25:51 PM  04/01/2018 02:42:22 PM     4861   \n",
       "4  18002373  04/01/2018 02:25:58 PM  04/01/2018 02:42:23 PM     4706   \n",
       "\n",
       "   TRIP DURATION  FROM STATION ID       FROM STATION NAME  TO STATION ID  \\\n",
       "0            259               51  Clark St & Randolph St             91   \n",
       "1            851              106   State St & Pearson St            174   \n",
       "2            431              426     Ellis Ave & 60th St            322   \n",
       "3            991              110   Dearborn St & Erie St             31   \n",
       "4            985              214   Damen Ave & Grand Ave             47   \n",
       "\n",
       "                TO STATION NAME   USER TYPE  GENDER  BIRTH YEAR  \\\n",
       "0  Clinton St & Washington Blvd  Subscriber    Male      1982.0   \n",
       "1         Canal St & Madison St  Subscriber  Female      1990.0   \n",
       "2         Kimbark Ave & 53rd St  Subscriber    Male      1982.0   \n",
       "3     Franklin St & Chicago Ave  Subscriber    Male      1977.0   \n",
       "4          State St & Kinzie St  Subscriber    Male      1984.0   \n",
       "\n",
       "   FROM LATITUDE  FROM LONGITUDE                          FROM LOCATION  \\\n",
       "0      41.884576      -87.631890      POINT (-87.63188991 41.884576228)   \n",
       "1      41.897448      -87.628722           POINT (-87.628722 41.897448)   \n",
       "2      41.785097      -87.601073  POINT (-87.6010727606 41.78509714636)   \n",
       "3      41.893992      -87.629318           POINT (-87.629318 41.893992)   \n",
       "4      41.891220      -87.676860             POINT (-87.67686 41.89122)   \n",
       "\n",
       "   TO LATITUDE  TO LONGITUDE                   TO LOCATION  \n",
       "0    41.883380    -87.641170    POINT (-87.64117 41.88338)  \n",
       "1    41.882091    -87.639833  POINT (-87.639833 41.882091)  \n",
       "2    41.799568    -87.594747  POINT (-87.594747 41.799568)  \n",
       "3    41.896776    -87.635633  POINT (-87.635633 41.896776)  \n",
       "4    41.889187    -87.627754  POINT (-87.627754 41.889187)  "
      ]
     },
     "execution_count": 2,
     "metadata": {},
     "output_type": "execute_result"
    }
   ],
   "source": [
    "df = pd.read_csv(\"../data/Divvy_Trips_2018.csv.gz\", compression='gzip')\n",
    "df.head()"
   ]
  },
  {
   "cell_type": "markdown",
   "metadata": {},
   "source": [
    "### Create a Timeseries of Total Duration by Date\n",
    "\n",
    "Let's pull out the start time and trip duration, and then group the durations by date, giving us total trip duration (i.e., total amount of time on Divvy bikes) over the calendar year.  "
   ]
  },
  {
   "cell_type": "code",
   "execution_count": 3,
   "metadata": {},
   "outputs": [
    {
     "data": {
      "text/html": [
       "<div>\n",
       "<style scoped>\n",
       "    .dataframe tbody tr th:only-of-type {\n",
       "        vertical-align: middle;\n",
       "    }\n",
       "\n",
       "    .dataframe tbody tr th {\n",
       "        vertical-align: top;\n",
       "    }\n",
       "\n",
       "    .dataframe thead th {\n",
       "        text-align: right;\n",
       "    }\n",
       "</style>\n",
       "<table border=\"1\" class=\"dataframe\">\n",
       "  <thead>\n",
       "    <tr style=\"text-align: right;\">\n",
       "      <th></th>\n",
       "      <th>START TIME</th>\n",
       "      <th>TRIP DURATION</th>\n",
       "    </tr>\n",
       "  </thead>\n",
       "  <tbody>\n",
       "    <tr>\n",
       "      <th>0</th>\n",
       "      <td>05/21/2018 05:07:29 PM</td>\n",
       "      <td>259</td>\n",
       "    </tr>\n",
       "    <tr>\n",
       "      <th>1</th>\n",
       "      <td>04/01/2018 02:24:43 PM</td>\n",
       "      <td>851</td>\n",
       "    </tr>\n",
       "    <tr>\n",
       "      <th>2</th>\n",
       "      <td>04/01/2018 02:25:30 PM</td>\n",
       "      <td>431</td>\n",
       "    </tr>\n",
       "    <tr>\n",
       "      <th>3</th>\n",
       "      <td>04/01/2018 02:25:51 PM</td>\n",
       "      <td>991</td>\n",
       "    </tr>\n",
       "    <tr>\n",
       "      <th>4</th>\n",
       "      <td>04/01/2018 02:25:58 PM</td>\n",
       "      <td>985</td>\n",
       "    </tr>\n",
       "  </tbody>\n",
       "</table>\n",
       "</div>"
      ],
      "text/plain": [
       "               START TIME  TRIP DURATION\n",
       "0  05/21/2018 05:07:29 PM            259\n",
       "1  04/01/2018 02:24:43 PM            851\n",
       "2  04/01/2018 02:25:30 PM            431\n",
       "3  04/01/2018 02:25:51 PM            991\n",
       "4  04/01/2018 02:25:58 PM            985"
      ]
     },
     "execution_count": 3,
     "metadata": {},
     "output_type": "execute_result"
    }
   ],
   "source": [
    "rides = df.loc[:,['START TIME','TRIP DURATION']]\n",
    "rides.head()"
   ]
  },
  {
   "cell_type": "code",
   "execution_count": 4,
   "metadata": {},
   "outputs": [],
   "source": [
    "# This takes a long time.\n",
    "rides['Date'] = pd.to_datetime(rides['START TIME']).dt.date"
   ]
  },
  {
   "cell_type": "code",
   "execution_count": 135,
   "metadata": {},
   "outputs": [
    {
     "data": {
      "text/html": [
       "<div>\n",
       "<style scoped>\n",
       "    .dataframe tbody tr th:only-of-type {\n",
       "        vertical-align: middle;\n",
       "    }\n",
       "\n",
       "    .dataframe tbody tr th {\n",
       "        vertical-align: top;\n",
       "    }\n",
       "\n",
       "    .dataframe thead th {\n",
       "        text-align: right;\n",
       "    }\n",
       "</style>\n",
       "<table border=\"1\" class=\"dataframe\">\n",
       "  <thead>\n",
       "    <tr style=\"text-align: right;\">\n",
       "      <th></th>\n",
       "      <th>START TIME</th>\n",
       "      <th>TRIP DURATION</th>\n",
       "      <th>Date</th>\n",
       "    </tr>\n",
       "  </thead>\n",
       "  <tbody>\n",
       "    <tr>\n",
       "      <th>1115179</th>\n",
       "      <td>01/01/2018 01:00:00 AM</td>\n",
       "      <td>794</td>\n",
       "      <td>2018-01-01</td>\n",
       "    </tr>\n",
       "    <tr>\n",
       "      <th>1114638</th>\n",
       "      <td>01/01/2018 01:02:00 PM</td>\n",
       "      <td>329</td>\n",
       "      <td>2018-01-01</td>\n",
       "    </tr>\n",
       "    <tr>\n",
       "      <th>1115121</th>\n",
       "      <td>01/01/2018 01:07:00 AM</td>\n",
       "      <td>1481</td>\n",
       "      <td>2018-01-01</td>\n",
       "    </tr>\n",
       "    <tr>\n",
       "      <th>1114820</th>\n",
       "      <td>01/01/2018 01:08:00 AM</td>\n",
       "      <td>1361</td>\n",
       "      <td>2018-01-01</td>\n",
       "    </tr>\n",
       "    <tr>\n",
       "      <th>1114920</th>\n",
       "      <td>01/01/2018 01:08:00 PM</td>\n",
       "      <td>392</td>\n",
       "      <td>2018-01-01</td>\n",
       "    </tr>\n",
       "  </tbody>\n",
       "</table>\n",
       "</div>"
      ],
      "text/plain": [
       "                     START TIME  TRIP DURATION        Date\n",
       "1115179  01/01/2018 01:00:00 AM            794  2018-01-01\n",
       "1114638  01/01/2018 01:02:00 PM            329  2018-01-01\n",
       "1115121  01/01/2018 01:07:00 AM           1481  2018-01-01\n",
       "1114820  01/01/2018 01:08:00 AM           1361  2018-01-01\n",
       "1114920  01/01/2018 01:08:00 PM            392  2018-01-01"
      ]
     },
     "execution_count": 135,
     "metadata": {},
     "output_type": "execute_result"
    }
   ],
   "source": [
    "rides.sort_values(by='START TIME', inplace=True)\n",
    "rides.head()"
   ]
  },
  {
   "cell_type": "markdown",
   "metadata": {},
   "source": [
    "We can see some seasonal trends, effectively representing two modes (summer and winter, essentially)"
   ]
  },
  {
   "cell_type": "code",
   "execution_count": 136,
   "metadata": {},
   "outputs": [
    {
     "data": {
      "image/png": "[encoded data removed]",
      "text/plain": [
       "<Figure size 432x288 with 1 Axes>"
      ]
     },
     "metadata": {
      "needs_background": "light"
     },
     "output_type": "display_data"
    }
   ],
   "source": [
    "X = rides.groupby('Date').sum()\n",
    "plt.plot(X)\n",
    "plt.show()"
   ]
  },
  {
   "cell_type": "markdown",
   "metadata": {},
   "source": [
    "### Training a Hidden Markov Model\n",
    "\n",
    "We can create an HMM, fit the model to the observations, which results in a prediction of most likely states. We can then look at those states."
   ]
  },
  {
   "cell_type": "code",
   "execution_count": 137,
   "metadata": {},
   "outputs": [
    {
     "data": {
      "text/plain": [
       "GaussianHMM(n_components=2, n_iter=1000)"
      ]
     },
     "execution_count": 137,
     "metadata": {},
     "output_type": "execute_result"
    }
   ],
   "source": [
    "model = hmm.GaussianHMM(n_components=2, n_iter=1000)\n",
    "model.fit(X)"
   ]
  },
  {
   "cell_type": "code",
   "execution_count": 138,
   "metadata": {},
   "outputs": [
    {
     "data": {
      "image/png": "[encoded data removed]",
      "text/plain": [
       "<Figure size 432x288 with 1 Axes>"
      ]
     },
     "metadata": {
      "needs_background": "light"
     },
     "output_type": "display_data"
    }
   ],
   "source": [
    "X['states'] = model.predict(X)\n",
    "\n",
    "plt.plot(X['states'])\n",
    "plt.show()"
   ]
  },
  {
   "cell_type": "markdown",
   "metadata": {},
   "source": [
    "### Generating Additional Sequences\n",
    "\n",
    "Once we have trained the model, it is possible to generate additional sequences based on the learned transition probabilities."
   ]
  },
  {
   "cell_type": "code",
   "execution_count": 152,
   "metadata": {},
   "outputs": [
    {
     "data": {
      "image/png": "[encoded data removed]",
      "text/plain": [
       "<Figure size 432x288 with 1 Axes>"
      ]
     },
     "metadata": {
      "needs_background": "light"
     },
     "output_type": "display_data"
    }
   ],
   "source": [
    "p = model.sample(100)\n",
    "plt.plot(p[0])\n",
    "plt.show()"
   ]
  },
  {
   "cell_type": "code",
   "execution_count": 153,
   "metadata": {},
   "outputs": [
    {
     "data": {
      "text/plain": [
       "array([0, 0, 0, 0, 0, 0, 0, 0, 0, 0, 0, 0, 0, 0, 0, 0, 0, 0, 0, 0, 0, 0,\n",
       "       0, 0, 0, 0, 0, 0, 1, 1, 1, 1, 1, 1, 1, 1, 1, 1, 1, 1, 1, 1, 1, 1,\n",
       "       1, 1, 1, 1, 1, 1, 1, 1, 1, 1, 1, 1, 1, 1, 1, 1, 1, 1, 1, 1, 0, 0,\n",
       "       0, 0, 0, 0, 0, 0, 0, 0, 0, 0, 0, 0, 0, 0, 0, 0, 0, 0, 0, 0, 0, 0,\n",
       "       0, 0, 0, 0, 0, 1, 1, 1, 1, 1, 1, 1])"
      ]
     },
     "execution_count": 153,
     "metadata": {},
     "output_type": "execute_result"
    }
   ],
   "source": [
    "p[1]"
   ]
  }
 ],
 "metadata": {
  "kernelspec": {
   "display_name": "Python 3",
   "language": "python",
   "name": "python3"
  },
  "language_info": {
   "codemirror_mode": {
    "name": "ipython",
    "version": 3
   },
   "file_extension": ".py",
   "mimetype": "text/x-python",
   "name": "python",
   "nbconvert_exporter": "python",
   "pygments_lexer": "ipython3",
   "version": "3.6.9"
  }
 },
 "nbformat": 4,
 "nbformat_minor": 4
}
